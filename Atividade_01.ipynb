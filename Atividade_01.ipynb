{
  "nbformat": 4,
  "nbformat_minor": 0,
  "metadata": {
    "colab": {
      "name": "Atividade_01.ipynb",
      "provenance": [],
      "mount_file_id": "1ozG7KQd20fY1PpUPafGYB9RXaoavTd_O",
      "authorship_tag": "ABX9TyP0iRX1EVkh1cqlf6I9H/wY",
      "include_colab_link": true
    },
    "kernelspec": {
      "name": "python3",
      "display_name": "Python 3"
    }
  },
  "cells": [
    {
      "cell_type": "markdown",
      "metadata": {
        "id": "view-in-github",
        "colab_type": "text"
      },
      "source": [
        "<a href=\"https://colab.research.google.com/github/Rendrikson98/Aprendizado-de-M-quina/blob/master/Atividade_01.ipynb\" target=\"_parent\"><img src=\"https://colab.research.google.com/assets/colab-badge.svg\" alt=\"Open In Colab\"/></a>"
      ]
    },
    {
      "cell_type": "markdown",
      "metadata": {
        "id": "rwLwdmiXwQeX",
        "colab_type": "text"
      },
      "source": [
        ""
      ]
    },
    {
      "cell_type": "markdown",
      "metadata": {
        "id": "ifUqyGPkxaeR",
        "colab_type": "text"
      },
      "source": [
        "**1. Dataset de escolha**\n",
        "    \n",
        "    **Dados de casas para alugar**\n",
        "\n",
        "    **Descrição**: As doenças cardiovasculares (DCVs) são a causa número 1 de morte no mundo, levando cerca de 17,9 milhões de vidas a cada ano, o que representa 31% de todas as mortes em todo o mundo. A insuficiência cardíaca é um evento comum causado por DCVs e este conjunto de dados contém 12 recursos que podem ser usados ​​para prever a mortalidade por insuficiência cardíaca. A maioria das doenças cardiovasculares pode ser prevenida abordando os fatores de risco comportamentais, como uso de tabaco, dieta não saudável e obesidade, sedentarismo e uso prejudicial de álcool, usando estratégias populacionais. Pessoas com doenças cardiovasculares ou que apresentam alto risco cardiovascular (devido à presença de um ou mais fatores de risco, como hipertensão, diabetes, hiperlipidemia ou doença já estabelecida) precisam de detecção e gerenciamento precoces, em que um modelo de aprendizado de máquina pode ser de grande ajuda.\n",
        "\n",
        "**2. Leitura dos dados com o Pandas**\n"
      ]
    },
    {
      "cell_type": "code",
      "metadata": {
        "id": "EDjZuG288eUZ",
        "colab_type": "code",
        "colab": {
          "base_uri": "https://localhost:8080/",
          "height": 348
        },
        "outputId": "8640d36e-58af-4d45-ebf9-f5618db39b73"
      },
      "source": [
        "import pandas as pd\n",
        "\n",
        "data = pd.read_csv('/content/drive/My Drive/Colab Notebooks/heart_failure_clinical_records_dataset.csv')\n",
        "data.head(10) \n",
        "\n"
      ],
      "execution_count": null,
      "outputs": [
        {
          "output_type": "execute_result",
          "data": {
            "text/html": [
              "<div>\n",
              "<style scoped>\n",
              "    .dataframe tbody tr th:only-of-type {\n",
              "        vertical-align: middle;\n",
              "    }\n",
              "\n",
              "    .dataframe tbody tr th {\n",
              "        vertical-align: top;\n",
              "    }\n",
              "\n",
              "    .dataframe thead th {\n",
              "        text-align: right;\n",
              "    }\n",
              "</style>\n",
              "<table border=\"1\" class=\"dataframe\">\n",
              "  <thead>\n",
              "    <tr style=\"text-align: right;\">\n",
              "      <th></th>\n",
              "      <th>age</th>\n",
              "      <th>anaemia</th>\n",
              "      <th>creatinine_phosphokinase</th>\n",
              "      <th>diabetes</th>\n",
              "      <th>ejection_fraction</th>\n",
              "      <th>high_blood_pressure</th>\n",
              "      <th>platelets</th>\n",
              "      <th>serum_creatinine</th>\n",
              "      <th>serum_sodium</th>\n",
              "      <th>sex</th>\n",
              "      <th>smoking</th>\n",
              "      <th>time</th>\n",
              "      <th>DEATH_EVENT</th>\n",
              "    </tr>\n",
              "  </thead>\n",
              "  <tbody>\n",
              "    <tr>\n",
              "      <th>0</th>\n",
              "      <td>75.0</td>\n",
              "      <td>0</td>\n",
              "      <td>582</td>\n",
              "      <td>0</td>\n",
              "      <td>20</td>\n",
              "      <td>1</td>\n",
              "      <td>265000.00</td>\n",
              "      <td>1.9</td>\n",
              "      <td>130</td>\n",
              "      <td>1</td>\n",
              "      <td>0</td>\n",
              "      <td>4</td>\n",
              "      <td>1</td>\n",
              "    </tr>\n",
              "    <tr>\n",
              "      <th>1</th>\n",
              "      <td>55.0</td>\n",
              "      <td>0</td>\n",
              "      <td>7861</td>\n",
              "      <td>0</td>\n",
              "      <td>38</td>\n",
              "      <td>0</td>\n",
              "      <td>263358.03</td>\n",
              "      <td>1.1</td>\n",
              "      <td>136</td>\n",
              "      <td>1</td>\n",
              "      <td>0</td>\n",
              "      <td>6</td>\n",
              "      <td>1</td>\n",
              "    </tr>\n",
              "    <tr>\n",
              "      <th>2</th>\n",
              "      <td>65.0</td>\n",
              "      <td>0</td>\n",
              "      <td>146</td>\n",
              "      <td>0</td>\n",
              "      <td>20</td>\n",
              "      <td>0</td>\n",
              "      <td>162000.00</td>\n",
              "      <td>1.3</td>\n",
              "      <td>129</td>\n",
              "      <td>1</td>\n",
              "      <td>1</td>\n",
              "      <td>7</td>\n",
              "      <td>1</td>\n",
              "    </tr>\n",
              "    <tr>\n",
              "      <th>3</th>\n",
              "      <td>50.0</td>\n",
              "      <td>1</td>\n",
              "      <td>111</td>\n",
              "      <td>0</td>\n",
              "      <td>20</td>\n",
              "      <td>0</td>\n",
              "      <td>210000.00</td>\n",
              "      <td>1.9</td>\n",
              "      <td>137</td>\n",
              "      <td>1</td>\n",
              "      <td>0</td>\n",
              "      <td>7</td>\n",
              "      <td>1</td>\n",
              "    </tr>\n",
              "    <tr>\n",
              "      <th>4</th>\n",
              "      <td>65.0</td>\n",
              "      <td>1</td>\n",
              "      <td>160</td>\n",
              "      <td>1</td>\n",
              "      <td>20</td>\n",
              "      <td>0</td>\n",
              "      <td>327000.00</td>\n",
              "      <td>2.7</td>\n",
              "      <td>116</td>\n",
              "      <td>0</td>\n",
              "      <td>0</td>\n",
              "      <td>8</td>\n",
              "      <td>1</td>\n",
              "    </tr>\n",
              "    <tr>\n",
              "      <th>5</th>\n",
              "      <td>90.0</td>\n",
              "      <td>1</td>\n",
              "      <td>47</td>\n",
              "      <td>0</td>\n",
              "      <td>40</td>\n",
              "      <td>1</td>\n",
              "      <td>204000.00</td>\n",
              "      <td>2.1</td>\n",
              "      <td>132</td>\n",
              "      <td>1</td>\n",
              "      <td>1</td>\n",
              "      <td>8</td>\n",
              "      <td>1</td>\n",
              "    </tr>\n",
              "    <tr>\n",
              "      <th>6</th>\n",
              "      <td>75.0</td>\n",
              "      <td>1</td>\n",
              "      <td>246</td>\n",
              "      <td>0</td>\n",
              "      <td>15</td>\n",
              "      <td>0</td>\n",
              "      <td>127000.00</td>\n",
              "      <td>1.2</td>\n",
              "      <td>137</td>\n",
              "      <td>1</td>\n",
              "      <td>0</td>\n",
              "      <td>10</td>\n",
              "      <td>1</td>\n",
              "    </tr>\n",
              "    <tr>\n",
              "      <th>7</th>\n",
              "      <td>60.0</td>\n",
              "      <td>1</td>\n",
              "      <td>315</td>\n",
              "      <td>1</td>\n",
              "      <td>60</td>\n",
              "      <td>0</td>\n",
              "      <td>454000.00</td>\n",
              "      <td>1.1</td>\n",
              "      <td>131</td>\n",
              "      <td>1</td>\n",
              "      <td>1</td>\n",
              "      <td>10</td>\n",
              "      <td>1</td>\n",
              "    </tr>\n",
              "    <tr>\n",
              "      <th>8</th>\n",
              "      <td>65.0</td>\n",
              "      <td>0</td>\n",
              "      <td>157</td>\n",
              "      <td>0</td>\n",
              "      <td>65</td>\n",
              "      <td>0</td>\n",
              "      <td>263358.03</td>\n",
              "      <td>1.5</td>\n",
              "      <td>138</td>\n",
              "      <td>0</td>\n",
              "      <td>0</td>\n",
              "      <td>10</td>\n",
              "      <td>1</td>\n",
              "    </tr>\n",
              "    <tr>\n",
              "      <th>9</th>\n",
              "      <td>80.0</td>\n",
              "      <td>1</td>\n",
              "      <td>123</td>\n",
              "      <td>0</td>\n",
              "      <td>35</td>\n",
              "      <td>1</td>\n",
              "      <td>388000.00</td>\n",
              "      <td>9.4</td>\n",
              "      <td>133</td>\n",
              "      <td>1</td>\n",
              "      <td>1</td>\n",
              "      <td>10</td>\n",
              "      <td>1</td>\n",
              "    </tr>\n",
              "  </tbody>\n",
              "</table>\n",
              "</div>"
            ],
            "text/plain": [
              "    age  anaemia  creatinine_phosphokinase  ...  smoking  time  DEATH_EVENT\n",
              "0  75.0        0                       582  ...        0     4            1\n",
              "1  55.0        0                      7861  ...        0     6            1\n",
              "2  65.0        0                       146  ...        1     7            1\n",
              "3  50.0        1                       111  ...        0     7            1\n",
              "4  65.0        1                       160  ...        0     8            1\n",
              "5  90.0        1                        47  ...        1     8            1\n",
              "6  75.0        1                       246  ...        0    10            1\n",
              "7  60.0        1                       315  ...        1    10            1\n",
              "8  65.0        0                       157  ...        0    10            1\n",
              "9  80.0        1                       123  ...        1    10            1\n",
              "\n",
              "[10 rows x 13 columns]"
            ]
          },
          "metadata": {
            "tags": []
          },
          "execution_count": 24
        }
      ]
    },
    {
      "cell_type": "markdown",
      "metadata": {
        "id": "ZptaWPnH2Hql",
        "colab_type": "text"
      },
      "source": [
        "**3. Limpeza dos dados com o Pandas**"
      ]
    },
    {
      "cell_type": "code",
      "metadata": {
        "id": "ZYo2-6HU2Mtb",
        "colab_type": "code",
        "colab": {
          "base_uri": "https://localhost:8080/",
          "height": 198
        },
        "outputId": "23b2780a-6de3-4304-d38a-dabd9b6d5591"
      },
      "source": [
        "#Verificar se existem valores NAN, ? ou dados faltantes\n",
        "data = data.dropna()\n",
        "\n",
        "#Excluir colunas irrelevantes\n",
        "data = data.drop(columns=['time'])\n",
        "data.head()"
      ],
      "execution_count": null,
      "outputs": [
        {
          "output_type": "execute_result",
          "data": {
            "text/html": [
              "<div>\n",
              "<style scoped>\n",
              "    .dataframe tbody tr th:only-of-type {\n",
              "        vertical-align: middle;\n",
              "    }\n",
              "\n",
              "    .dataframe tbody tr th {\n",
              "        vertical-align: top;\n",
              "    }\n",
              "\n",
              "    .dataframe thead th {\n",
              "        text-align: right;\n",
              "    }\n",
              "</style>\n",
              "<table border=\"1\" class=\"dataframe\">\n",
              "  <thead>\n",
              "    <tr style=\"text-align: right;\">\n",
              "      <th></th>\n",
              "      <th>age</th>\n",
              "      <th>anaemia</th>\n",
              "      <th>creatinine_phosphokinase</th>\n",
              "      <th>diabetes</th>\n",
              "      <th>ejection_fraction</th>\n",
              "      <th>high_blood_pressure</th>\n",
              "      <th>platelets</th>\n",
              "      <th>serum_creatinine</th>\n",
              "      <th>serum_sodium</th>\n",
              "      <th>sex</th>\n",
              "      <th>smoking</th>\n",
              "      <th>DEATH_EVENT</th>\n",
              "    </tr>\n",
              "  </thead>\n",
              "  <tbody>\n",
              "    <tr>\n",
              "      <th>0</th>\n",
              "      <td>75.0</td>\n",
              "      <td>0</td>\n",
              "      <td>582</td>\n",
              "      <td>0</td>\n",
              "      <td>20</td>\n",
              "      <td>1</td>\n",
              "      <td>265000.00</td>\n",
              "      <td>1.9</td>\n",
              "      <td>130</td>\n",
              "      <td>1</td>\n",
              "      <td>0</td>\n",
              "      <td>1</td>\n",
              "    </tr>\n",
              "    <tr>\n",
              "      <th>1</th>\n",
              "      <td>55.0</td>\n",
              "      <td>0</td>\n",
              "      <td>7861</td>\n",
              "      <td>0</td>\n",
              "      <td>38</td>\n",
              "      <td>0</td>\n",
              "      <td>263358.03</td>\n",
              "      <td>1.1</td>\n",
              "      <td>136</td>\n",
              "      <td>1</td>\n",
              "      <td>0</td>\n",
              "      <td>1</td>\n",
              "    </tr>\n",
              "    <tr>\n",
              "      <th>2</th>\n",
              "      <td>65.0</td>\n",
              "      <td>0</td>\n",
              "      <td>146</td>\n",
              "      <td>0</td>\n",
              "      <td>20</td>\n",
              "      <td>0</td>\n",
              "      <td>162000.00</td>\n",
              "      <td>1.3</td>\n",
              "      <td>129</td>\n",
              "      <td>1</td>\n",
              "      <td>1</td>\n",
              "      <td>1</td>\n",
              "    </tr>\n",
              "    <tr>\n",
              "      <th>3</th>\n",
              "      <td>50.0</td>\n",
              "      <td>1</td>\n",
              "      <td>111</td>\n",
              "      <td>0</td>\n",
              "      <td>20</td>\n",
              "      <td>0</td>\n",
              "      <td>210000.00</td>\n",
              "      <td>1.9</td>\n",
              "      <td>137</td>\n",
              "      <td>1</td>\n",
              "      <td>0</td>\n",
              "      <td>1</td>\n",
              "    </tr>\n",
              "    <tr>\n",
              "      <th>4</th>\n",
              "      <td>65.0</td>\n",
              "      <td>1</td>\n",
              "      <td>160</td>\n",
              "      <td>1</td>\n",
              "      <td>20</td>\n",
              "      <td>0</td>\n",
              "      <td>327000.00</td>\n",
              "      <td>2.7</td>\n",
              "      <td>116</td>\n",
              "      <td>0</td>\n",
              "      <td>0</td>\n",
              "      <td>1</td>\n",
              "    </tr>\n",
              "  </tbody>\n",
              "</table>\n",
              "</div>"
            ],
            "text/plain": [
              "    age  anaemia  creatinine_phosphokinase  ...  sex  smoking  DEATH_EVENT\n",
              "0  75.0        0                       582  ...    1        0            1\n",
              "1  55.0        0                      7861  ...    1        0            1\n",
              "2  65.0        0                       146  ...    1        1            1\n",
              "3  50.0        1                       111  ...    1        0            1\n",
              "4  65.0        1                       160  ...    0        0            1\n",
              "\n",
              "[5 rows x 12 columns]"
            ]
          },
          "metadata": {
            "tags": []
          },
          "execution_count": 3
        }
      ]
    },
    {
      "cell_type": "markdown",
      "metadata": {
        "id": "z97XObq2JFUi",
        "colab_type": "text"
      },
      "source": [
        "**4. Análise preliminar dos dados**"
      ]
    },
    {
      "cell_type": "code",
      "metadata": {
        "id": "W1h9CcV0JJjA",
        "colab_type": "code",
        "colab": {
          "base_uri": "https://localhost:8080/",
          "height": 295
        },
        "outputId": "d472dd0e-04ad-4383-aa35-2161e60e3fb9"
      },
      "source": [
        "# importando biblioteca para plotar gráficos\n",
        "import matplotlib.pyplot as plt\n",
        "\n",
        "#Idade dos pacientes\n",
        "plt.hist(data['age'])\n",
        "plt.xlabel('classes')\n",
        "plt.ylabel('idade')\n",
        "plt.title('Idades dos pacientes')\n",
        "plt.grid(True)"
      ],
      "execution_count": null,
      "outputs": [
        {
          "output_type": "display_data",
          "data": {
            "image/png": "[encoded data removed]",
            "text/plain": [
              "<Figure size 432x288 with 1 Axes>"
            ]
          },
          "metadata": {
            "tags": [],
            "needs_background": "light"
          }
        }
      ]
    },
    {
      "cell_type": "code",
      "metadata": {
        "id": "5As5BHWPQKAe",
        "colab_type": "code",
        "colab": {
          "base_uri": "https://localhost:8080/",
          "height": 54
        },
        "outputId": "68bb5655-f7ab-41e3-9e7f-848b3890bb56"
      },
      "source": [
        "#contando quantidade de fumantes\n",
        "print('Fumantes: ', data[data['smoking']==1].shape[0])\n",
        "print('Não fumantes: ', data[data['smoking']==0].shape[0])"
      ],
      "execution_count": null,
      "outputs": [
        {
          "output_type": "stream",
          "text": [
            "Fumantes:  96\n",
            "Não fumantes:  203\n"
          ],
          "name": "stdout"
        }
      ]
    },
    {
      "cell_type": "code",
      "metadata": {
        "id": "XbuwoRkQzTre",
        "colab_type": "code",
        "colab": {
          "base_uri": "https://localhost:8080/",
          "height": 295
        },
        "outputId": "3a2388a3-9186-44ec-da19-98d177424216"
      },
      "source": [
        "plt.hist(data['smoking'])\n",
        "plt.xlabel('classes')\n",
        "plt.ylabel('Quantidade')\n",
        "plt.title('Histograma do número de vítimas fumantes e não fumantes')\n",
        "plt.grid(True)"
      ],
      "execution_count": null,
      "outputs": [
        {
          "output_type": "display_data",
          "data": {
            "image/png": "[encoded data removed]",
            "text/plain": [
              "<Figure size 432x288 with 1 Axes>"
            ]
          },
          "metadata": {
            "tags": [],
            "needs_background": "light"
          }
        }
      ]
    },
    {
      "cell_type": "code",
      "metadata": {
        "id": "g0Psc1LkyXJi",
        "colab_type": "code",
        "colab": {
          "base_uri": "https://localhost:8080/",
          "height": 54
        },
        "outputId": "22fb762a-60a3-4fbb-ac5a-7171c54ee722"
      },
      "source": [
        "#Contando o número de vítimas pelo sexo masculino e feminino\n",
        "print('Homens: ', data[data['sex']==1].shape[0])\n",
        "print('Mulheres: ', data[data['sex']==0].shape[0])"
      ],
      "execution_count": null,
      "outputs": [
        {
          "output_type": "stream",
          "text": [
            "Homens:  194\n",
            "Mulheres:  105\n"
          ],
          "name": "stdout"
        }
      ]
    },
    {
      "cell_type": "code",
      "metadata": {
        "id": "fMoyPuFPz7lO",
        "colab_type": "code",
        "colab": {
          "base_uri": "https://localhost:8080/",
          "height": 295
        },
        "outputId": "c6a96e5e-a854-416d-ae62-386fcd3a61b7"
      },
      "source": [
        "plt.hist(data['sex'])\n",
        "plt.xlabel('Classes')\n",
        "plt.ylabel('Quantidade')\n",
        "plt.title('Número de pacientes Homens ou Mulheres')\n",
        "plt.grid(True)"
      ],
      "execution_count": null,
      "outputs": [
        {
          "output_type": "display_data",
          "data": {
            "image/png": "[encoded data removed]",
            "text/plain": [
              "<Figure size 432x288 with 1 Axes>"
            ]
          },
          "metadata": {
            "tags": [],
            "needs_background": "light"
          }
        }
      ]
    },
    {
      "cell_type": "code",
      "metadata": {
        "id": "ObrQlCpAYRKt",
        "colab_type": "code",
        "colab": {
          "base_uri": "https://localhost:8080/",
          "height": 54
        },
        "outputId": "5f9364fa-88e5-4a25-8758-3935158554cd"
      },
      "source": [
        "#Contando o número pacientes com diabetes\n",
        "print('Com diabetes: ', data[data['diabetes']==1].shape[0])\n",
        "print('Sem diabetes: ', data[data['diabetes']==0].shape[0])"
      ],
      "execution_count": null,
      "outputs": [
        {
          "output_type": "stream",
          "text": [
            "Com diabetes:  125\n",
            "Sem diabetes:  174\n"
          ],
          "name": "stdout"
        }
      ]
    },
    {
      "cell_type": "code",
      "metadata": {
        "id": "tRhoaUHHYi3X",
        "colab_type": "code",
        "colab": {
          "base_uri": "https://localhost:8080/",
          "height": 295
        },
        "outputId": "d2bf551c-f7ea-44da-dde1-bf8fb7fdc516"
      },
      "source": [
        "plt.hist(data['diabetes'])\n",
        "plt.xlabel('Classes')\n",
        "plt.ylabel('Quantidade')\n",
        "plt.title('Número de pacientes com diabetes')\n",
        "plt.grid(True)"
      ],
      "execution_count": null,
      "outputs": [
        {
          "output_type": "display_data",
          "data": {
            "image/png": "[encoded data removed]",
            "text/plain": [
              "<Figure size 432x288 with 1 Axes>"
            ]
          },
          "metadata": {
            "tags": [],
            "needs_background": "light"
          }
        }
      ]
    },
    {
      "cell_type": "code",
      "metadata": {
        "id": "2W3tQDlHyx7H",
        "colab_type": "code",
        "colab": {
          "base_uri": "https://localhost:8080/",
          "height": 54
        },
        "outputId": "91b4a43a-721a-4b89-b203-580f424a5115"
      },
      "source": [
        "#contando on número de vítimas com pressão alta\n",
        "print('Sem pressão alta: ', data[data['high_blood_pressure']==1].shape[0])\n",
        "print('Com pressão alta: ', data[data['high_blood_pressure']==0].shape[0])"
      ],
      "execution_count": null,
      "outputs": [
        {
          "output_type": "stream",
          "text": [
            "Sem pressão alta:  105\n",
            "Com pressão alta:  194\n"
          ],
          "name": "stdout"
        }
      ]
    },
    {
      "cell_type": "code",
      "metadata": {
        "id": "5wIvpwFyKpXD",
        "colab_type": "code",
        "colab": {
          "base_uri": "https://localhost:8080/",
          "height": 295
        },
        "outputId": "a741f34c-8d16-4ba5-8978-4a022b485f2f"
      },
      "source": [
        "plt.hist(data['high_blood_pressure'])\n",
        "plt.xlabel('Classes')\n",
        "plt.ylabel('Quantidade')\n",
        "plt.title('Número de pacientes com pressão arterial')\n",
        "plt.grid(True)"
      ],
      "execution_count": null,
      "outputs": [
        {
          "output_type": "display_data",
          "data": {
            "image/png": "[encoded data removed]",
            "text/plain": [
              "<Figure size 432x288 with 1 Axes>"
            ]
          },
          "metadata": {
            "tags": [],
            "needs_background": "light"
          }
        }
      ]
    },
    {
      "cell_type": "code",
      "metadata": {
        "id": "bALsHR_0M1Sy",
        "colab_type": "code",
        "colab": {
          "base_uri": "https://localhost:8080/",
          "height": 54
        },
        "outputId": "68645b99-b8b7-4233-f28b-00c5422b2f28"
      },
      "source": [
        "print('Mortes por problemas cardiacos: ', data[data['DEATH_EVENT']==0].shape[0])\n",
        "print('Casos sem mortes: ', data[data['DEATH_EVENT']==1].shape[0])"
      ],
      "execution_count": null,
      "outputs": [
        {
          "output_type": "stream",
          "text": [
            "Mortes por problemas cardiacos:  203\n",
            "Casos sem mortes:  96\n"
          ],
          "name": "stdout"
        }
      ]
    },
    {
      "cell_type": "code",
      "metadata": {
        "id": "Iq2s5hQpMXGI",
        "colab_type": "code",
        "colab": {
          "base_uri": "https://localhost:8080/",
          "height": 295
        },
        "outputId": "69f376b5-125c-48f3-f5cd-15512c3a3905"
      },
      "source": [
        "#Mortes com problemas cardiacos\n",
        "plt.hist(data['DEATH_EVENT'])\n",
        "plt.xlabel('Classes')\n",
        "plt.ylabel('Quantidade')\n",
        "plt.title('Mortes por problemas cardiacos')\n",
        "plt.grid(True)"
      ],
      "execution_count": null,
      "outputs": [
        {
          "output_type": "display_data",
          "data": {
            "image/png": "[encoded data removed]",
            "text/plain": [
              "<Figure size 432x288 with 1 Axes>"
            ]
          },
          "metadata": {
            "tags": [],
            "needs_background": "light"
          }
        }
      ]
    },
    {
      "cell_type": "markdown",
      "metadata": {
        "id": "5Gm5sL14WXcD",
        "colab_type": "text"
      },
      "source": [
        "**4.1 Distribuição de probabilidade**"
      ]
    },
    {
      "cell_type": "code",
      "metadata": {
        "id": "u6FWKfVWNzHV",
        "colab_type": "code",
        "colab": {
          "base_uri": "https://localhost:8080/",
          "height": 296
        },
        "outputId": "bca3dad4-984d-4e83-c1cf-a7b30d2a18a1"
      },
      "source": [
        "#Distribuição de probabilidade\n",
        "import seaborn as sns\n",
        "sns.distplot(data.DEATH_EVENT , hist=False, rug=False, label='Mortes')\n",
        "plt.ylabel('probabilidade')\n",
        "plt.title('Ocorrência de Eventos de Mortes')\n",
        "plt.show()"
      ],
      "execution_count": null,
      "outputs": [
        {
          "output_type": "display_data",
          "data": {
            "image/png": "[encoded data removed]",
            "text/plain": [
              "<Figure size 432x288 with 1 Axes>"
            ]
          },
          "metadata": {
            "tags": [],
            "needs_background": "light"
          }
        }
      ]
    },
    {
      "cell_type": "code",
      "metadata": {
        "id": "HZEKnqf1UbWI",
        "colab_type": "code",
        "colab": {
          "base_uri": "https://localhost:8080/",
          "height": 279
        },
        "outputId": "16951a70-0959-4661-b3da-4a386b8823e4"
      },
      "source": [
        "morte = data[data['DEATH_EVENT']==0].drop(columns=['DEATH_EVENT']).reset_index(drop=True)\n",
        "semMorte = data[data['DEATH_EVENT']==1].drop(columns=['DEATH_EVENT']).reset_index(drop=True)\n",
        "\n",
        "#Distribuição de probabilidade entre fumantes e eventos de morte por doença cardiovascular\n",
        "sns.distplot(morte.smoking, hist=False, rug=False,label='Fumante com Evento com morte')\n",
        "sns.distplot(semMorte.smoking, hist=False, rug=False,label='Fumante com Evento sem morte')\n",
        "plt.xlabel('Fumante')\n",
        "plt.ylabel('Probabilidades')\n",
        "plt.show()"
      ],
      "execution_count": null,
      "outputs": [
        {
          "output_type": "display_data",
          "data": {
            "image/png": "[encoded data removed]",
            "text/plain": [
              "<Figure size 432x288 with 1 Axes>"
            ]
          },
          "metadata": {
            "tags": [],
            "needs_background": "light"
          }
        }
      ]
    },
    {
      "cell_type": "code",
      "metadata": {
        "id": "LC6ZZEJMFPJD",
        "colab_type": "code",
        "colab": {
          "base_uri": "https://localhost:8080/",
          "height": 279
        },
        "outputId": "6cf4951d-beac-4f8c-8296-8ac88ea072d5"
      },
      "source": [
        "sns.distplot(morte.anaemia, hist=False, rug=False,label='Anemia com Evento com morte')\n",
        "sns.distplot(semMorte.anaemia, hist=False, rug=False,label='Anemia com Evento sem morte')\n",
        "plt.xlabel('Anemia')\n",
        "plt.ylabel('Probabilidades')\n",
        "plt.show()"
      ],
      "execution_count": null,
      "outputs": [
        {
          "output_type": "display_data",
          "data": {
            "image/png": "[encoded data removed]",
            "text/plain": [
              "<Figure size 432x288 with 1 Axes>"
            ]
          },
          "metadata": {
            "tags": [],
            "needs_background": "light"
          }
        }
      ]
    },
    {
      "cell_type": "code",
      "metadata": {
        "id": "vnYR-QYjWqai",
        "colab_type": "code",
        "colab": {
          "base_uri": "https://localhost:8080/",
          "height": 297
        },
        "outputId": "484a3183-6166-4750-8d53-4f449ac17cc1"
      },
      "source": [
        "#Distribuição de probabilidade entre pacientes com diabetes ou não com eventos de morte por dença cardiovascular\n",
        "sns.distplot(morte.diabetes, hist=False, rug=False, label='Pacientes com diabetes')\n",
        "sns.distplot(semMorte.diabetes, hist=False, rug=False, label='Pacientes sem diabetes')"
      ],
      "execution_count": null,
      "outputs": [
        {
          "output_type": "execute_result",
          "data": {
            "text/plain": [
              "<matplotlib.axes._subplots.AxesSubplot at 0x7f3e7943e048>"
            ]
          },
          "metadata": {
            "tags": []
          },
          "execution_count": 41
        },
        {
          "output_type": "display_data",
          "data": {
            "image/png": "[encoded data removed]",
            "text/plain": [
              "<Figure size 432x288 with 1 Axes>"
            ]
          },
          "metadata": {
            "tags": [],
            "needs_background": "light"
          }
        }
      ]
    },
    {
      "cell_type": "code",
      "metadata": {
        "id": "GWeQALTxWgjP",
        "colab_type": "code",
        "colab": {
          "base_uri": "https://localhost:8080/",
          "height": 279
        },
        "outputId": "c0457443-fc6f-4976-8030-7668113fab13"
      },
      "source": [
        "#Distribuição de probabilidade entre paciente com pressão alta e eventos de morte pordoença cardiovascular\n",
        "sns.distplot(morte.high_blood_pressure, hist=False, rug=False, label='Paciente com pressão alta')\n",
        "sns.distplot(semMorte.high_blood_pressure, hist=False, rug=False, label='Paciente sem pressão alta')\n",
        "plt.xlabel('pressão')\n",
        "plt.ylabel('Probabilidades')\n",
        "plt.grid(True)\n",
        "plt.show()"
      ],
      "execution_count": null,
      "outputs": [
        {
          "output_type": "display_data",
          "data": {
            "image/png": "[encoded data removed]",
            "text/plain": [
              "<Figure size 432x288 with 1 Axes>"
            ]
          },
          "metadata": {
            "tags": [],
            "needs_background": "light"
          }
        }
      ]
    },
    {
      "cell_type": "code",
      "metadata": {
        "id": "5Q_a5iXmbNVd",
        "colab_type": "code",
        "colab": {
          "base_uri": "https://localhost:8080/",
          "height": 279
        },
        "outputId": "909573b5-97fd-4513-d5fb-82bbec132044"
      },
      "source": [
        "sns.distplot(morte.age, hist=False, rug=False, label='Paciente com evento de morte')\n",
        "sns.distplot(semMorte.age, hist=False, rug=False, label='Paciente sem evento de morte')\n",
        "plt.xlabel('idade')\n",
        "plt.ylabel('Probabilidades')\n",
        "plt.grid(True)\n",
        "plt.show()"
      ],
      "execution_count": null,
      "outputs": [
        {
          "output_type": "display_data",
          "data": {
            "image/png": "[encoded data removed]",
            "text/plain": [
              "<Figure size 432x288 with 1 Axes>"
            ]
          },
          "metadata": {
            "tags": [],
            "needs_background": "light"
          }
        }
      ]
    },
    {
      "cell_type": "markdown",
      "metadata": {
        "id": "yGGph3DN4jPk",
        "colab_type": "text"
      },
      "source": [
        "**4.2 Disposição estatísticas dos dados**"
      ]
    },
    {
      "cell_type": "code",
      "metadata": {
        "id": "p07Z11zg4VAd",
        "colab_type": "code",
        "colab": {
          "base_uri": "https://localhost:8080/",
          "height": 458
        },
        "outputId": "963fd765-5267-47a6-8691-87f49deb0c9d"
      },
      "source": [
        "#Disposição estatísticas dos dados\n",
        "corr = data.corr()\n",
        "corr"
      ],
      "execution_count": null,
      "outputs": [
        {
          "output_type": "execute_result",
          "data": {
            "text/html": [
              "<div>\n",
              "<style scoped>\n",
              "    .dataframe tbody tr th:only-of-type {\n",
              "        vertical-align: middle;\n",
              "    }\n",
              "\n",
              "    .dataframe tbody tr th {\n",
              "        vertical-align: top;\n",
              "    }\n",
              "\n",
              "    .dataframe thead th {\n",
              "        text-align: right;\n",
              "    }\n",
              "</style>\n",
              "<table border=\"1\" class=\"dataframe\">\n",
              "  <thead>\n",
              "    <tr style=\"text-align: right;\">\n",
              "      <th></th>\n",
              "      <th>age</th>\n",
              "      <th>anaemia</th>\n",
              "      <th>creatinine_phosphokinase</th>\n",
              "      <th>diabetes</th>\n",
              "      <th>ejection_fraction</th>\n",
              "      <th>high_blood_pressure</th>\n",
              "      <th>platelets</th>\n",
              "      <th>serum_creatinine</th>\n",
              "      <th>serum_sodium</th>\n",
              "      <th>sex</th>\n",
              "      <th>smoking</th>\n",
              "      <th>time</th>\n",
              "      <th>DEATH_EVENT</th>\n",
              "    </tr>\n",
              "  </thead>\n",
              "  <tbody>\n",
              "    <tr>\n",
              "      <th>age</th>\n",
              "      <td>1.000000</td>\n",
              "      <td>0.088006</td>\n",
              "      <td>-0.081584</td>\n",
              "      <td>-0.101012</td>\n",
              "      <td>0.060098</td>\n",
              "      <td>0.093289</td>\n",
              "      <td>-0.052354</td>\n",
              "      <td>0.159187</td>\n",
              "      <td>-0.045966</td>\n",
              "      <td>0.065430</td>\n",
              "      <td>0.018668</td>\n",
              "      <td>-0.224068</td>\n",
              "      <td>0.253729</td>\n",
              "    </tr>\n",
              "    <tr>\n",
              "      <th>anaemia</th>\n",
              "      <td>0.088006</td>\n",
              "      <td>1.000000</td>\n",
              "      <td>-0.190741</td>\n",
              "      <td>-0.012729</td>\n",
              "      <td>0.031557</td>\n",
              "      <td>0.038182</td>\n",
              "      <td>-0.043786</td>\n",
              "      <td>0.052174</td>\n",
              "      <td>0.041882</td>\n",
              "      <td>-0.094769</td>\n",
              "      <td>-0.107290</td>\n",
              "      <td>-0.141414</td>\n",
              "      <td>0.066270</td>\n",
              "    </tr>\n",
              "    <tr>\n",
              "      <th>creatinine_phosphokinase</th>\n",
              "      <td>-0.081584</td>\n",
              "      <td>-0.190741</td>\n",
              "      <td>1.000000</td>\n",
              "      <td>-0.009639</td>\n",
              "      <td>-0.044080</td>\n",
              "      <td>-0.070590</td>\n",
              "      <td>0.024463</td>\n",
              "      <td>-0.016408</td>\n",
              "      <td>0.059550</td>\n",
              "      <td>0.079791</td>\n",
              "      <td>0.002421</td>\n",
              "      <td>-0.009346</td>\n",
              "      <td>0.062728</td>\n",
              "    </tr>\n",
              "    <tr>\n",
              "      <th>diabetes</th>\n",
              "      <td>-0.101012</td>\n",
              "      <td>-0.012729</td>\n",
              "      <td>-0.009639</td>\n",
              "      <td>1.000000</td>\n",
              "      <td>-0.004850</td>\n",
              "      <td>-0.012732</td>\n",
              "      <td>0.092193</td>\n",
              "      <td>-0.046975</td>\n",
              "      <td>-0.089551</td>\n",
              "      <td>-0.157730</td>\n",
              "      <td>-0.147173</td>\n",
              "      <td>0.033726</td>\n",
              "      <td>-0.001943</td>\n",
              "    </tr>\n",
              "    <tr>\n",
              "      <th>ejection_fraction</th>\n",
              "      <td>0.060098</td>\n",
              "      <td>0.031557</td>\n",
              "      <td>-0.044080</td>\n",
              "      <td>-0.004850</td>\n",
              "      <td>1.000000</td>\n",
              "      <td>0.024445</td>\n",
              "      <td>0.072177</td>\n",
              "      <td>-0.011302</td>\n",
              "      <td>0.175902</td>\n",
              "      <td>-0.148386</td>\n",
              "      <td>-0.067315</td>\n",
              "      <td>0.041729</td>\n",
              "      <td>-0.268603</td>\n",
              "    </tr>\n",
              "    <tr>\n",
              "      <th>high_blood_pressure</th>\n",
              "      <td>0.093289</td>\n",
              "      <td>0.038182</td>\n",
              "      <td>-0.070590</td>\n",
              "      <td>-0.012732</td>\n",
              "      <td>0.024445</td>\n",
              "      <td>1.000000</td>\n",
              "      <td>0.049963</td>\n",
              "      <td>-0.004935</td>\n",
              "      <td>0.037109</td>\n",
              "      <td>-0.104615</td>\n",
              "      <td>-0.055711</td>\n",
              "      <td>-0.196439</td>\n",
              "      <td>0.079351</td>\n",
              "    </tr>\n",
              "    <tr>\n",
              "      <th>platelets</th>\n",
              "      <td>-0.052354</td>\n",
              "      <td>-0.043786</td>\n",
              "      <td>0.024463</td>\n",
              "      <td>0.092193</td>\n",
              "      <td>0.072177</td>\n",
              "      <td>0.049963</td>\n",
              "      <td>1.000000</td>\n",
              "      <td>-0.041198</td>\n",
              "      <td>0.062125</td>\n",
              "      <td>-0.125120</td>\n",
              "      <td>0.028234</td>\n",
              "      <td>0.010514</td>\n",
              "      <td>-0.049139</td>\n",
              "    </tr>\n",
              "    <tr>\n",
              "      <th>serum_creatinine</th>\n",
              "      <td>0.159187</td>\n",
              "      <td>0.052174</td>\n",
              "      <td>-0.016408</td>\n",
              "      <td>-0.046975</td>\n",
              "      <td>-0.011302</td>\n",
              "      <td>-0.004935</td>\n",
              "      <td>-0.041198</td>\n",
              "      <td>1.000000</td>\n",
              "      <td>-0.189095</td>\n",
              "      <td>0.006970</td>\n",
              "      <td>-0.027414</td>\n",
              "      <td>-0.149315</td>\n",
              "      <td>0.294278</td>\n",
              "    </tr>\n",
              "    <tr>\n",
              "      <th>serum_sodium</th>\n",
              "      <td>-0.045966</td>\n",
              "      <td>0.041882</td>\n",
              "      <td>0.059550</td>\n",
              "      <td>-0.089551</td>\n",
              "      <td>0.175902</td>\n",
              "      <td>0.037109</td>\n",
              "      <td>0.062125</td>\n",
              "      <td>-0.189095</td>\n",
              "      <td>1.000000</td>\n",
              "      <td>-0.027566</td>\n",
              "      <td>0.004813</td>\n",
              "      <td>0.087640</td>\n",
              "      <td>-0.195204</td>\n",
              "    </tr>\n",
              "    <tr>\n",
              "      <th>sex</th>\n",
              "      <td>0.065430</td>\n",
              "      <td>-0.094769</td>\n",
              "      <td>0.079791</td>\n",
              "      <td>-0.157730</td>\n",
              "      <td>-0.148386</td>\n",
              "      <td>-0.104615</td>\n",
              "      <td>-0.125120</td>\n",
              "      <td>0.006970</td>\n",
              "      <td>-0.027566</td>\n",
              "      <td>1.000000</td>\n",
              "      <td>0.445892</td>\n",
              "      <td>-0.015608</td>\n",
              "      <td>-0.004316</td>\n",
              "    </tr>\n",
              "    <tr>\n",
              "      <th>smoking</th>\n",
              "      <td>0.018668</td>\n",
              "      <td>-0.107290</td>\n",
              "      <td>0.002421</td>\n",
              "      <td>-0.147173</td>\n",
              "      <td>-0.067315</td>\n",
              "      <td>-0.055711</td>\n",
              "      <td>0.028234</td>\n",
              "      <td>-0.027414</td>\n",
              "      <td>0.004813</td>\n",
              "      <td>0.445892</td>\n",
              "      <td>1.000000</td>\n",
              "      <td>-0.022839</td>\n",
              "      <td>-0.012623</td>\n",
              "    </tr>\n",
              "    <tr>\n",
              "      <th>time</th>\n",
              "      <td>-0.224068</td>\n",
              "      <td>-0.141414</td>\n",
              "      <td>-0.009346</td>\n",
              "      <td>0.033726</td>\n",
              "      <td>0.041729</td>\n",
              "      <td>-0.196439</td>\n",
              "      <td>0.010514</td>\n",
              "      <td>-0.149315</td>\n",
              "      <td>0.087640</td>\n",
              "      <td>-0.015608</td>\n",
              "      <td>-0.022839</td>\n",
              "      <td>1.000000</td>\n",
              "      <td>-0.526964</td>\n",
              "    </tr>\n",
              "    <tr>\n",
              "      <th>DEATH_EVENT</th>\n",
              "      <td>0.253729</td>\n",
              "      <td>0.066270</td>\n",
              "      <td>0.062728</td>\n",
              "      <td>-0.001943</td>\n",
              "      <td>-0.268603</td>\n",
              "      <td>0.079351</td>\n",
              "      <td>-0.049139</td>\n",
              "      <td>0.294278</td>\n",
              "      <td>-0.195204</td>\n",
              "      <td>-0.004316</td>\n",
              "      <td>-0.012623</td>\n",
              "      <td>-0.526964</td>\n",
              "      <td>1.000000</td>\n",
              "    </tr>\n",
              "  </tbody>\n",
              "</table>\n",
              "</div>"
            ],
            "text/plain": [
              "                               age   anaemia  ...      time  DEATH_EVENT\n",
              "age                       1.000000  0.088006  ... -0.224068     0.253729\n",
              "anaemia                   0.088006  1.000000  ... -0.141414     0.066270\n",
              "creatinine_phosphokinase -0.081584 -0.190741  ... -0.009346     0.062728\n",
              "diabetes                 -0.101012 -0.012729  ...  0.033726    -0.001943\n",
              "ejection_fraction         0.060098  0.031557  ...  0.041729    -0.268603\n",
              "high_blood_pressure       0.093289  0.038182  ... -0.196439     0.079351\n",
              "platelets                -0.052354 -0.043786  ...  0.010514    -0.049139\n",
              "serum_creatinine          0.159187  0.052174  ... -0.149315     0.294278\n",
              "serum_sodium             -0.045966  0.041882  ...  0.087640    -0.195204\n",
              "sex                       0.065430 -0.094769  ... -0.015608    -0.004316\n",
              "smoking                   0.018668 -0.107290  ... -0.022839    -0.012623\n",
              "time                     -0.224068 -0.141414  ...  1.000000    -0.526964\n",
              "DEATH_EVENT               0.253729  0.066270  ... -0.526964     1.000000\n",
              "\n",
              "[13 rows x 13 columns]"
            ]
          },
          "metadata": {
            "tags": []
          },
          "execution_count": 54
        }
      ]
    },
    {
      "cell_type": "code",
      "metadata": {
        "id": "DsKcjdR2fT1H",
        "colab_type": "code",
        "colab": {
          "base_uri": "https://localhost:8080/",
          "height": 407
        },
        "outputId": "83bcab35-3719-43de-c881-31fd8729a38c"
      },
      "source": [
        "#plotando coeficientes de correlação em um mapa de calor\n",
        "sns.heatmap(corr,vmin=-1, vmax=1, center=0,cmap=sns.diverging_palette(20, 220, n=200))"
      ],
      "execution_count": null,
      "outputs": [
        {
          "output_type": "execute_result",
          "data": {
            "text/plain": [
              "<matplotlib.axes._subplots.AxesSubplot at 0x7f3e77759128>"
            ]
          },
          "metadata": {
            "tags": []
          },
          "execution_count": 55
        },
        {
          "output_type": "display_data",
          "data": {
            "image/png": "[encoded data removed]",
            "text/plain": [
              "<Figure size 432x288 with 2 Axes>"
            ]
          },
          "metadata": {
            "tags": [],
            "needs_background": "light"
          }
        }
      ]
    },
    {
      "cell_type": "code",
      "metadata": {
        "id": "tVmQQxA1frhu",
        "colab_type": "code",
        "colab": {
          "base_uri": "https://localhost:8080/",
          "height": 228
        },
        "outputId": "d58a324e-5387-480d-c768-ec521a534b32"
      },
      "source": [
        "corr = data[['age', 'diabetes', 'high_blood_pressure', 'sex', 'smoking', 'DEATH_EVENT']].corr()\n",
        "corr\n"
      ],
      "execution_count": null,
      "outputs": [
        {
          "output_type": "execute_result",
          "data": {
            "text/html": [
              "<div>\n",
              "<style scoped>\n",
              "    .dataframe tbody tr th:only-of-type {\n",
              "        vertical-align: middle;\n",
              "    }\n",
              "\n",
              "    .dataframe tbody tr th {\n",
              "        vertical-align: top;\n",
              "    }\n",
              "\n",
              "    .dataframe thead th {\n",
              "        text-align: right;\n",
              "    }\n",
              "</style>\n",
              "<table border=\"1\" class=\"dataframe\">\n",
              "  <thead>\n",
              "    <tr style=\"text-align: right;\">\n",
              "      <th></th>\n",
              "      <th>age</th>\n",
              "      <th>diabetes</th>\n",
              "      <th>high_blood_pressure</th>\n",
              "      <th>sex</th>\n",
              "      <th>smoking</th>\n",
              "      <th>DEATH_EVENT</th>\n",
              "    </tr>\n",
              "  </thead>\n",
              "  <tbody>\n",
              "    <tr>\n",
              "      <th>age</th>\n",
              "      <td>1.000000</td>\n",
              "      <td>-0.101012</td>\n",
              "      <td>0.093289</td>\n",
              "      <td>0.065430</td>\n",
              "      <td>0.018668</td>\n",
              "      <td>0.253729</td>\n",
              "    </tr>\n",
              "    <tr>\n",
              "      <th>diabetes</th>\n",
              "      <td>-0.101012</td>\n",
              "      <td>1.000000</td>\n",
              "      <td>-0.012732</td>\n",
              "      <td>-0.157730</td>\n",
              "      <td>-0.147173</td>\n",
              "      <td>-0.001943</td>\n",
              "    </tr>\n",
              "    <tr>\n",
              "      <th>high_blood_pressure</th>\n",
              "      <td>0.093289</td>\n",
              "      <td>-0.012732</td>\n",
              "      <td>1.000000</td>\n",
              "      <td>-0.104615</td>\n",
              "      <td>-0.055711</td>\n",
              "      <td>0.079351</td>\n",
              "    </tr>\n",
              "    <tr>\n",
              "      <th>sex</th>\n",
              "      <td>0.065430</td>\n",
              "      <td>-0.157730</td>\n",
              "      <td>-0.104615</td>\n",
              "      <td>1.000000</td>\n",
              "      <td>0.445892</td>\n",
              "      <td>-0.004316</td>\n",
              "    </tr>\n",
              "    <tr>\n",
              "      <th>smoking</th>\n",
              "      <td>0.018668</td>\n",
              "      <td>-0.147173</td>\n",
              "      <td>-0.055711</td>\n",
              "      <td>0.445892</td>\n",
              "      <td>1.000000</td>\n",
              "      <td>-0.012623</td>\n",
              "    </tr>\n",
              "    <tr>\n",
              "      <th>DEATH_EVENT</th>\n",
              "      <td>0.253729</td>\n",
              "      <td>-0.001943</td>\n",
              "      <td>0.079351</td>\n",
              "      <td>-0.004316</td>\n",
              "      <td>-0.012623</td>\n",
              "      <td>1.000000</td>\n",
              "    </tr>\n",
              "  </tbody>\n",
              "</table>\n",
              "</div>"
            ],
            "text/plain": [
              "                          age  diabetes  ...   smoking  DEATH_EVENT\n",
              "age                  1.000000 -0.101012  ...  0.018668     0.253729\n",
              "diabetes            -0.101012  1.000000  ... -0.147173    -0.001943\n",
              "high_blood_pressure  0.093289 -0.012732  ... -0.055711     0.079351\n",
              "sex                  0.065430 -0.157730  ...  0.445892    -0.004316\n",
              "smoking              0.018668 -0.147173  ...  1.000000    -0.012623\n",
              "DEATH_EVENT          0.253729 -0.001943  ... -0.012623     1.000000\n",
              "\n",
              "[6 rows x 6 columns]"
            ]
          },
          "metadata": {
            "tags": []
          },
          "execution_count": 61
        }
      ]
    },
    {
      "cell_type": "code",
      "metadata": {
        "id": "UfC_yA3OgEs1",
        "colab_type": "code",
        "colab": {
          "base_uri": "https://localhost:8080/",
          "height": 380
        },
        "outputId": "1fe7a078-3879-476d-b870-8ec27f44d19a"
      },
      "source": [
        "sns.heatmap(corr,vmin=-1, vmax=1, center=0,cmap=sns.diverging_palette(20, 220, n=200))"
      ],
      "execution_count": null,
      "outputs": [
        {
          "output_type": "execute_result",
          "data": {
            "text/plain": [
              "<matplotlib.axes._subplots.AxesSubplot at 0x7f3e7771c208>"
            ]
          },
          "metadata": {
            "tags": []
          },
          "execution_count": 62
        },
        {
          "output_type": "display_data",
          "data": {
            "image/png": "[encoded data removed]",
            "text/plain": [
              "<Figure size 432x288 with 2 Axes>"
            ]
          },
          "metadata": {
            "tags": [],
            "needs_background": "light"
          }
        }
      ]
    },
    {
      "cell_type": "code",
      "metadata": {
        "id": "GYQP-vgkDAX3",
        "colab_type": "code",
        "colab": {
          "base_uri": "https://localhost:8080/",
          "height": 254
        },
        "outputId": "2525f223-d6cb-4339-fe77-846009cacaf7"
      },
      "source": [
        "\n",
        "# estatistica basica dos dados - media\n",
        "morte.mean()"
      ],
      "execution_count": null,
      "outputs": [
        {
          "output_type": "execute_result",
          "data": {
            "text/plain": [
              "age                             58.761906\n",
              "anaemia                          0.408867\n",
              "creatinine_phosphokinase       540.054187\n",
              "diabetes                         0.418719\n",
              "ejection_fraction               40.266010\n",
              "high_blood_pressure              0.325123\n",
              "platelets                   266657.489901\n",
              "serum_creatinine                 1.184877\n",
              "serum_sodium                   137.216749\n",
              "sex                              0.650246\n",
              "smoking                          0.325123\n",
              "time                           158.339901\n",
              "dtype: float64"
            ]
          },
          "metadata": {
            "tags": []
          },
          "execution_count": 67
        }
      ]
    },
    {
      "cell_type": "code",
      "metadata": {
        "id": "sZRlBODlDDvG",
        "colab_type": "code",
        "colab": {
          "base_uri": "https://localhost:8080/",
          "height": 254
        },
        "outputId": "25a298ac-8d51-43fd-ff9d-00bf91a296ab"
      },
      "source": [
        "\n",
        "# estatistica basica dos dados - media\n",
        "semMorte.mean()"
      ],
      "execution_count": null,
      "outputs": [
        {
          "output_type": "execute_result",
          "data": {
            "text/plain": [
              "age                             65.215281\n",
              "anaemia                          0.479167\n",
              "creatinine_phosphokinase       670.197917\n",
              "diabetes                         0.416667\n",
              "ejection_fraction               33.468750\n",
              "high_blood_pressure              0.406250\n",
              "platelets                   256381.044792\n",
              "serum_creatinine                 1.835833\n",
              "serum_sodium                   135.375000\n",
              "sex                              0.645833\n",
              "smoking                          0.312500\n",
              "time                            70.885417\n",
              "dtype: float64"
            ]
          },
          "metadata": {
            "tags": []
          },
          "execution_count": 68
        }
      ]
    },
    {
      "cell_type": "code",
      "metadata": {
        "id": "8ccld8w3XMFJ",
        "colab_type": "code",
        "colab": {
          "base_uri": "https://localhost:8080/",
          "height": 254
        },
        "outputId": "cbddc03c-be06-44a4-a308-5dabd24088c5"
      },
      "source": [
        "# estatistica basica dos dados - desvio padrao\n",
        "morte.std()"
      ],
      "execution_count": null,
      "outputs": [
        {
          "output_type": "execute_result",
          "data": {
            "text/plain": [
              "age                            10.637890\n",
              "anaemia                         0.492840\n",
              "creatinine_phosphokinase      753.799572\n",
              "diabetes                        0.494569\n",
              "ejection_fraction              10.859963\n",
              "high_blood_pressure             0.469579\n",
              "platelets                   97531.202283\n",
              "serum_creatinine                0.654083\n",
              "serum_sodium                    3.982923\n",
              "sex                             0.478071\n",
              "smoking                         0.469579\n",
              "time                           67.742872\n",
              "dtype: float64"
            ]
          },
          "metadata": {
            "tags": []
          },
          "execution_count": 73
        }
      ]
    },
    {
      "cell_type": "code",
      "metadata": {
        "id": "DFRkGcKRXRoN",
        "colab_type": "code",
        "colab": {
          "base_uri": "https://localhost:8080/",
          "height": 254
        },
        "outputId": "35917648-53d1-43e1-aa26-c0a2af152d4b"
      },
      "source": [
        "# estatistica basica dos dados - desvio padrao\n",
        "semMorte.std()"
      ],
      "execution_count": null,
      "outputs": [
        {
          "output_type": "execute_result",
          "data": {
            "text/plain": [
              "age                            13.214556\n",
              "anaemia                         0.502188\n",
              "creatinine_phosphokinase     1316.580640\n",
              "diabetes                        0.495595\n",
              "ejection_fraction              12.525303\n",
              "high_blood_pressure             0.493710\n",
              "platelets                   98525.682856\n",
              "serum_creatinine                1.468562\n",
              "serum_sodium                    5.001579\n",
              "sex                             0.480771\n",
              "smoking                         0.465946\n",
              "time                           62.378281\n",
              "dtype: float64"
            ]
          },
          "metadata": {
            "tags": []
          },
          "execution_count": 74
        }
      ]
    },
    {
      "cell_type": "markdown",
      "metadata": {
        "id": "LvsSyIHrXdag",
        "colab_type": "text"
      },
      "source": [
        "**5. Interpretação dos dados**\n",
        "\n",
        " A insuficiência cardíaca é um evento comum causado por DCVs e este conjunto de dados contém 12 recursos que podem ser usados ​​para prever a mortalidade por insuficiência cardíaca.\n",
        "\n",
        " Em nossa análise foi analizado cinco dos doze recurso como pode influenciar no desenvolvimento da insuficiência cadíaca. Os cinco recursos são: Diabetes, Pressão alta, Anemia, Fumante e Sexo. Todos os aspectos foram analisados buscado verificar individualmente qual é a relação de cada um dos recurso com eventos de morte de pacientes com insuficiência cadíaca.\n",
        "\n",
        " É possível analisar que dentro os cinco recursos utilizados no estudo o que mais trás riscos para o usuário é o fato da Pressão arterial elevada que trás aos seus usuários uma probabilidade maior de óbito para os pacientes que possuem essa doença, comparado com pacientes que não possuem esse mesmo problema.\n",
        "\n",
        " Um outro fator de risco são pacientes Fumantes. Esses também possuem uma probabilidade mais alta de óbito com o conjuto de doenças cadíacas junto ao hábito de fumar. Os nossos resultados mostram que a probabilidade de ocorrência de eventos de mortes nesses pacientes é semelhante ao de pacientes com pressão alta.  \n",
        "\n",
        " As informações mostram que pessoas que não possuem nenhum desses recursos citados, ou pelo menos, não possuem pressão alta, não são fumantes ou não possuem diabetes tem uma probabilidade muito menor de eventos de morte oriundos de doenças cadíacas. \n"
      ]
    }
  ]
}