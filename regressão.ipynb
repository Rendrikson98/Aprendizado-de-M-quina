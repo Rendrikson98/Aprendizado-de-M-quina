{
  "nbformat": 4,
  "nbformat_minor": 0,
  "metadata": {
    "colab": {
      "name": "regressão.ipynb",
      "provenance": [],
      "collapsed_sections": [],
      "mount_file_id": "1KInun6CpvptcIDuxc0KAE1jSvRMFCe0C",
      "authorship_tag": "ABX9TyPvEoF5FG5LG/kbR7wEN8Wa",
      "include_colab_link": true
    },
    "kernelspec": {
      "name": "python3",
      "display_name": "Python 3"
    }
  },
  "cells": [
    {
      "cell_type": "markdown",
      "metadata": {
        "id": "view-in-github",
        "colab_type": "text"
      },
      "source": [
        "<a href=\"https://colab.research.google.com/github/Rendrikson98/Aprendizado-de-M-quina/blob/master/regress%C3%A3o.ipynb\" target=\"_parent\"><img src=\"https://colab.research.google.com/assets/colab-badge.svg\" alt=\"Open In Colab\"/></a>"
      ]
    },
    {
      "cell_type": "markdown",
      "metadata": {
        "id": "jBAFGUMBag3y",
        "colab_type": "text"
      },
      "source": [
        "**1. Importar bibliotecas necessárias e realizando a leitura dos dados**"
      ]
    },
    {
      "cell_type": "markdown",
      "metadata": {
        "id": "zBvOQo0oqa8v",
        "colab_type": "text"
      },
      "source": [
        "https://www.kaggle.com/edenau/london-bike-sharing-system-data?select=journeys.csv"
      ]
    },
    {
      "cell_type": "code",
      "metadata": {
        "id": "xVJYjFivaY3N",
        "colab_type": "code",
        "colab": {
          "base_uri": "https://localhost:8080/",
          "height": 204
        },
        "outputId": "2d17a848-fa88-47d6-a6b6-567ff842ff6a"
      },
      "source": [
        "import pandas as pd\n",
        "import matplotlib.pyplot as plt\n",
        "import seaborn as sns\n",
        "from sklearn.linear_model import LinearRegression\n",
        "from sklearn.tree import DecisionTreeRegressor\n",
        "from sklearn.ensemble import RandomForestRegressor\n",
        "from sklearn.neural_network import MLPRegressor\n",
        "\n",
        "data = pd.read_csv('/content/drive/My Drive/Colab Notebooks/journeys.csv')\n",
        "data.head() "
      ],
      "execution_count": 70,
      "outputs": [
        {
          "output_type": "execute_result",
          "data": {
            "text/html": [
              "<div>\n",
              "<style scoped>\n",
              "    .dataframe tbody tr th:only-of-type {\n",
              "        vertical-align: middle;\n",
              "    }\n",
              "\n",
              "    .dataframe tbody tr th {\n",
              "        vertical-align: top;\n",
              "    }\n",
              "\n",
              "    .dataframe thead th {\n",
              "        text-align: right;\n",
              "    }\n",
              "</style>\n",
              "<table border=\"1\" class=\"dataframe\">\n",
              "  <thead>\n",
              "    <tr style=\"text-align: right;\">\n",
              "      <th></th>\n",
              "      <th>JourneyDuration</th>\n",
              "      <th>JourneyID</th>\n",
              "      <th>EndDate</th>\n",
              "      <th>EndMonth</th>\n",
              "      <th>EndYear</th>\n",
              "      <th>EndHour</th>\n",
              "      <th>EndMinute</th>\n",
              "      <th>EndStationID</th>\n",
              "      <th>StartDate</th>\n",
              "      <th>StartMonth</th>\n",
              "      <th>StartYear</th>\n",
              "      <th>StartHour</th>\n",
              "      <th>StartMinute</th>\n",
              "      <th>StartStationID</th>\n",
              "    </tr>\n",
              "  </thead>\n",
              "  <tbody>\n",
              "    <tr>\n",
              "      <th>0</th>\n",
              "      <td>2040.0</td>\n",
              "      <td>953</td>\n",
              "      <td>19</td>\n",
              "      <td>9</td>\n",
              "      <td>17</td>\n",
              "      <td>18</td>\n",
              "      <td>0</td>\n",
              "      <td>478</td>\n",
              "      <td>19</td>\n",
              "      <td>9</td>\n",
              "      <td>17</td>\n",
              "      <td>17</td>\n",
              "      <td>26</td>\n",
              "      <td>251</td>\n",
              "    </tr>\n",
              "    <tr>\n",
              "      <th>1</th>\n",
              "      <td>1800.0</td>\n",
              "      <td>12581</td>\n",
              "      <td>19</td>\n",
              "      <td>9</td>\n",
              "      <td>17</td>\n",
              "      <td>15</td>\n",
              "      <td>21</td>\n",
              "      <td>122</td>\n",
              "      <td>19</td>\n",
              "      <td>9</td>\n",
              "      <td>17</td>\n",
              "      <td>14</td>\n",
              "      <td>51</td>\n",
              "      <td>550</td>\n",
              "    </tr>\n",
              "    <tr>\n",
              "      <th>2</th>\n",
              "      <td>1140.0</td>\n",
              "      <td>1159</td>\n",
              "      <td>15</td>\n",
              "      <td>9</td>\n",
              "      <td>17</td>\n",
              "      <td>17</td>\n",
              "      <td>1</td>\n",
              "      <td>639</td>\n",
              "      <td>15</td>\n",
              "      <td>9</td>\n",
              "      <td>17</td>\n",
              "      <td>16</td>\n",
              "      <td>42</td>\n",
              "      <td>212</td>\n",
              "    </tr>\n",
              "    <tr>\n",
              "      <th>3</th>\n",
              "      <td>420.0</td>\n",
              "      <td>2375</td>\n",
              "      <td>14</td>\n",
              "      <td>9</td>\n",
              "      <td>17</td>\n",
              "      <td>12</td>\n",
              "      <td>16</td>\n",
              "      <td>755</td>\n",
              "      <td>14</td>\n",
              "      <td>9</td>\n",
              "      <td>17</td>\n",
              "      <td>12</td>\n",
              "      <td>9</td>\n",
              "      <td>163</td>\n",
              "    </tr>\n",
              "    <tr>\n",
              "      <th>4</th>\n",
              "      <td>1200.0</td>\n",
              "      <td>14659</td>\n",
              "      <td>13</td>\n",
              "      <td>9</td>\n",
              "      <td>17</td>\n",
              "      <td>19</td>\n",
              "      <td>33</td>\n",
              "      <td>605</td>\n",
              "      <td>13</td>\n",
              "      <td>9</td>\n",
              "      <td>17</td>\n",
              "      <td>19</td>\n",
              "      <td>13</td>\n",
              "      <td>36</td>\n",
              "    </tr>\n",
              "  </tbody>\n",
              "</table>\n",
              "</div>"
            ],
            "text/plain": [
              "   JourneyDuration  JourneyID  EndDate  ...  StartHour  StartMinute  StartStationID\n",
              "0           2040.0        953       19  ...         17           26             251\n",
              "1           1800.0      12581       19  ...         14           51             550\n",
              "2           1140.0       1159       15  ...         16           42             212\n",
              "3            420.0       2375       14  ...         12            9             163\n",
              "4           1200.0      14659       13  ...         19           13              36\n",
              "\n",
              "[5 rows x 14 columns]"
            ]
          },
          "metadata": {
            "tags": []
          },
          "execution_count": 70
        }
      ]
    },
    {
      "cell_type": "markdown",
      "metadata": {
        "id": "S4l6NHFabNfU",
        "colab_type": "text"
      },
      "source": [
        "**Limpeza e organização dos dados**"
      ]
    },
    {
      "cell_type": "code",
      "metadata": {
        "id": "pWodTbrYbOxq",
        "colab_type": "code",
        "colab": {
          "base_uri": "https://localhost:8080/",
          "height": 204
        },
        "outputId": "c1f1994a-5a6f-40aa-b821-8ab8802e52c8"
      },
      "source": [
        "data = data.drop(columns=['JourneyID','EndStationID', 'StartStationID', 'EndYear', 'StartYear'])\n",
        "data.head()"
      ],
      "execution_count": 71,
      "outputs": [
        {
          "output_type": "execute_result",
          "data": {
            "text/html": [
              "<div>\n",
              "<style scoped>\n",
              "    .dataframe tbody tr th:only-of-type {\n",
              "        vertical-align: middle;\n",
              "    }\n",
              "\n",
              "    .dataframe tbody tr th {\n",
              "        vertical-align: top;\n",
              "    }\n",
              "\n",
              "    .dataframe thead th {\n",
              "        text-align: right;\n",
              "    }\n",
              "</style>\n",
              "<table border=\"1\" class=\"dataframe\">\n",
              "  <thead>\n",
              "    <tr style=\"text-align: right;\">\n",
              "      <th></th>\n",
              "      <th>JourneyDuration</th>\n",
              "      <th>EndDate</th>\n",
              "      <th>EndMonth</th>\n",
              "      <th>EndHour</th>\n",
              "      <th>EndMinute</th>\n",
              "      <th>StartDate</th>\n",
              "      <th>StartMonth</th>\n",
              "      <th>StartHour</th>\n",
              "      <th>StartMinute</th>\n",
              "    </tr>\n",
              "  </thead>\n",
              "  <tbody>\n",
              "    <tr>\n",
              "      <th>0</th>\n",
              "      <td>2040.0</td>\n",
              "      <td>19</td>\n",
              "      <td>9</td>\n",
              "      <td>18</td>\n",
              "      <td>0</td>\n",
              "      <td>19</td>\n",
              "      <td>9</td>\n",
              "      <td>17</td>\n",
              "      <td>26</td>\n",
              "    </tr>\n",
              "    <tr>\n",
              "      <th>1</th>\n",
              "      <td>1800.0</td>\n",
              "      <td>19</td>\n",
              "      <td>9</td>\n",
              "      <td>15</td>\n",
              "      <td>21</td>\n",
              "      <td>19</td>\n",
              "      <td>9</td>\n",
              "      <td>14</td>\n",
              "      <td>51</td>\n",
              "    </tr>\n",
              "    <tr>\n",
              "      <th>2</th>\n",
              "      <td>1140.0</td>\n",
              "      <td>15</td>\n",
              "      <td>9</td>\n",
              "      <td>17</td>\n",
              "      <td>1</td>\n",
              "      <td>15</td>\n",
              "      <td>9</td>\n",
              "      <td>16</td>\n",
              "      <td>42</td>\n",
              "    </tr>\n",
              "    <tr>\n",
              "      <th>3</th>\n",
              "      <td>420.0</td>\n",
              "      <td>14</td>\n",
              "      <td>9</td>\n",
              "      <td>12</td>\n",
              "      <td>16</td>\n",
              "      <td>14</td>\n",
              "      <td>9</td>\n",
              "      <td>12</td>\n",
              "      <td>9</td>\n",
              "    </tr>\n",
              "    <tr>\n",
              "      <th>4</th>\n",
              "      <td>1200.0</td>\n",
              "      <td>13</td>\n",
              "      <td>9</td>\n",
              "      <td>19</td>\n",
              "      <td>33</td>\n",
              "      <td>13</td>\n",
              "      <td>9</td>\n",
              "      <td>19</td>\n",
              "      <td>13</td>\n",
              "    </tr>\n",
              "  </tbody>\n",
              "</table>\n",
              "</div>"
            ],
            "text/plain": [
              "   JourneyDuration  EndDate  EndMonth  ...  StartMonth  StartHour  StartMinute\n",
              "0           2040.0       19         9  ...           9         17           26\n",
              "1           1800.0       19         9  ...           9         14           51\n",
              "2           1140.0       15         9  ...           9         16           42\n",
              "3            420.0       14         9  ...           9         12            9\n",
              "4           1200.0       13         9  ...           9         19           13\n",
              "\n",
              "[5 rows x 9 columns]"
            ]
          },
          "metadata": {
            "tags": []
          },
          "execution_count": 71
        }
      ]
    },
    {
      "cell_type": "markdown",
      "metadata": {
        "id": "T2_17Ikvq4e1",
        "colab_type": "text"
      },
      "source": [
        "**Análise Preliminar dos Dados**"
      ]
    },
    {
      "cell_type": "code",
      "metadata": {
        "id": "fvx4FpoSq6FC",
        "colab_type": "code",
        "colab": {
          "base_uri": "https://localhost:8080/",
          "height": 279
        },
        "outputId": "3fd508bf-7b68-48f0-9c61-2ea9e1282ce2"
      },
      "source": [
        "#plotando Duração de um viagem\n",
        "plt.plot(data.JourneyDuration)\n",
        "plt.xlabel('quantidade')\n",
        "plt.ylabel('Metros')\n",
        "plt.show()"
      ],
      "execution_count": 72,
      "outputs": [
        {
          "output_type": "display_data",
          "data": {
            "image/png": "[encoded data removed]",
            "text/plain": [
              "<Figure size 432x288 with 1 Axes>"
            ]
          },
          "metadata": {
            "tags": [],
            "needs_background": "light"
          }
        }
      ]
    },
    {
      "cell_type": "code",
      "metadata": {
        "id": "4arUwpT1s88P",
        "colab_type": "code",
        "colab": {
          "base_uri": "https://localhost:8080/",
          "height": 295
        },
        "outputId": "b4991362-a6a7-485b-daa8-5accc1915a99"
      },
      "source": [
        "#plotando ocorrência de dias do mês\n",
        "plt.hist(data.StartDate)\n",
        "plt.xlabel('Dias do mês')\n",
        "plt.ylabel('Quantidade')\n",
        "plt.title('Ocorrencia de dias do mês')\n",
        "plt.show()"
      ],
      "execution_count": 73,
      "outputs": [
        {
          "output_type": "display_data",
          "data": {
            "image/png": "[encoded data removed]",
            "text/plain": [
              "<Figure size 432x288 with 1 Axes>"
            ]
          },
          "metadata": {
            "tags": [],
            "needs_background": "light"
          }
        }
      ]
    },
    {
      "cell_type": "code",
      "metadata": {
        "id": "Ld_YKxjZuvp4",
        "colab_type": "code",
        "colab": {
          "base_uri": "https://localhost:8080/",
          "height": 295
        },
        "outputId": "17d18480-a743-46a0-cf52-19b3469f876d"
      },
      "source": [
        "#plotando ocorrência de dias com final da locação\n",
        "plt.hist(data.EndDate)\n",
        "plt.xlabel('Dias do mês')\n",
        "plt.ylabel('Quantidade')\n",
        "plt.title('Ocorrencia de finalização das locações')\n",
        "plt.show()"
      ],
      "execution_count": 74,
      "outputs": [
        {
          "output_type": "display_data",
          "data": {
            "image/png": "[encoded data removed]",
            "text/plain": [
              "<Figure size 432x288 with 1 Axes>"
            ]
          },
          "metadata": {
            "tags": [],
            "needs_background": "light"
          }
        }
      ]
    },
    {
      "cell_type": "code",
      "metadata": {
        "id": "ymFXZDgx8tTE",
        "colab_type": "code",
        "colab": {
          "base_uri": "https://localhost:8080/",
          "height": 295
        },
        "outputId": "e8253995-5764-457c-a09f-19fd610f0fa0"
      },
      "source": [
        "#plotando ocorrência de dias com início da locação\n",
        "plt.hist(data.StartDate)\n",
        "plt.xlabel('Dias do mês')\n",
        "plt.ylabel('Quantidade')\n",
        "plt.title('Ocorrencia de início das locações')\n",
        "plt.show()"
      ],
      "execution_count": 75,
      "outputs": [
        {
          "output_type": "display_data",
          "data": {
            "image/png": "[encoded data removed]",
            "text/plain": [
              "<Figure size 432x288 with 1 Axes>"
            ]
          },
          "metadata": {
            "tags": [],
            "needs_background": "light"
          }
        }
      ]
    },
    {
      "cell_type": "code",
      "metadata": {
        "id": "TWUTi1Un9YMi",
        "colab_type": "code",
        "colab": {
          "base_uri": "https://localhost:8080/",
          "height": 295
        },
        "outputId": "65c608ca-fac1-40e4-e697-85c1309957e4"
      },
      "source": [
        "#plotando ocorrência tempo da locação\n",
        "plt.hist(data.EndHour)\n",
        "plt.xlabel('horas')\n",
        "plt.ylabel('Quantidade')\n",
        "plt.title('Ocorrencia de horas das locações')\n",
        "plt.show()"
      ],
      "execution_count": 76,
      "outputs": [
        {
          "output_type": "display_data",
          "data": {
            "image/png": "[encoded data removed]",
            "text/plain": [
              "<Figure size 432x288 with 1 Axes>"
            ]
          },
          "metadata": {
            "tags": [],
            "needs_background": "light"
          }
        }
      ]
    },
    {
      "cell_type": "code",
      "metadata": {
        "id": "yW2UaAZ89mbE",
        "colab_type": "code",
        "colab": {
          "base_uri": "https://localhost:8080/",
          "height": 295
        },
        "outputId": "49bbc271-720f-49f5-84df-c016f0f70513"
      },
      "source": [
        "#plotando ocorrência tempo da locação\n",
        "plt.hist(data.StartHour)\n",
        "plt.xlabel('horas')\n",
        "plt.ylabel('Quantidade')\n",
        "plt.title('Ocorrencia de horas das locações')\n",
        "plt.show()"
      ],
      "execution_count": 77,
      "outputs": [
        {
          "output_type": "display_data",
          "data": {
            "image/png": "[encoded data removed]",
            "text/plain": [
              "<Figure size 432x288 with 1 Axes>"
            ]
          },
          "metadata": {
            "tags": [],
            "needs_background": "light"
          }
        }
      ]
    },
    {
      "cell_type": "code",
      "metadata": {
        "id": "GddckyyC9zuX",
        "colab_type": "code",
        "colab": {
          "base_uri": "https://localhost:8080/",
          "height": 295
        },
        "outputId": "653b82b2-b0ba-4192-b24e-cdca37cd8071"
      },
      "source": [
        "# plotando correlação entre temperatura e número de aluguéis\n",
        "plt.scatter(data.StartHour, data.JourneyDuration)\n",
        "plt.xlabel('duração da viagem')\n",
        "plt.ylabel('hora de inicio')\n",
        "plt.title('Correlação entre duração da viagem e horário de início')\n",
        "plt.show()"
      ],
      "execution_count": 78,
      "outputs": [
        {
          "output_type": "display_data",
          "data": {
            "image/png": "[encoded data removed]",
            "text/plain": [
              "<Figure size 432x288 with 1 Axes>"
            ]
          },
          "metadata": {
            "tags": [],
            "needs_background": "light"
          }
        }
      ]
    },
    {
      "cell_type": "markdown",
      "metadata": {
        "id": "lFOwFaVsP1LF",
        "colab_type": "text"
      },
      "source": [
        "**Re-escala dos dados**"
      ]
    },
    {
      "cell_type": "code",
      "metadata": {
        "id": "_1e7hkfUP7LJ",
        "colab_type": "code",
        "colab": {
          "base_uri": "https://localhost:8080/",
          "height": 204
        },
        "outputId": "ee2af079-8088-45f8-825a-78cd40d45dfd"
      },
      "source": [
        "data = (data - data.min())/(data.max()-data.min())\n",
        "data.head()"
      ],
      "execution_count": 79,
      "outputs": [
        {
          "output_type": "execute_result",
          "data": {
            "text/html": [
              "<div>\n",
              "<style scoped>\n",
              "    .dataframe tbody tr th:only-of-type {\n",
              "        vertical-align: middle;\n",
              "    }\n",
              "\n",
              "    .dataframe tbody tr th {\n",
              "        vertical-align: top;\n",
              "    }\n",
              "\n",
              "    .dataframe thead th {\n",
              "        text-align: right;\n",
              "    }\n",
              "</style>\n",
              "<table border=\"1\" class=\"dataframe\">\n",
              "  <thead>\n",
              "    <tr style=\"text-align: right;\">\n",
              "      <th></th>\n",
              "      <th>JourneyDuration</th>\n",
              "      <th>EndDate</th>\n",
              "      <th>EndMonth</th>\n",
              "      <th>EndHour</th>\n",
              "      <th>EndMinute</th>\n",
              "      <th>StartDate</th>\n",
              "      <th>StartMonth</th>\n",
              "      <th>StartHour</th>\n",
              "      <th>StartMinute</th>\n",
              "    </tr>\n",
              "  </thead>\n",
              "  <tbody>\n",
              "    <tr>\n",
              "      <th>0</th>\n",
              "      <td>0.002587</td>\n",
              "      <td>0.600000</td>\n",
              "      <td>1.0</td>\n",
              "      <td>0.782609</td>\n",
              "      <td>0.000000</td>\n",
              "      <td>0.600000</td>\n",
              "      <td>1.0</td>\n",
              "      <td>0.739130</td>\n",
              "      <td>0.440678</td>\n",
              "    </tr>\n",
              "    <tr>\n",
              "      <th>1</th>\n",
              "      <td>0.002282</td>\n",
              "      <td>0.600000</td>\n",
              "      <td>1.0</td>\n",
              "      <td>0.652174</td>\n",
              "      <td>0.355932</td>\n",
              "      <td>0.600000</td>\n",
              "      <td>1.0</td>\n",
              "      <td>0.608696</td>\n",
              "      <td>0.864407</td>\n",
              "    </tr>\n",
              "    <tr>\n",
              "      <th>2</th>\n",
              "      <td>0.001446</td>\n",
              "      <td>0.466667</td>\n",
              "      <td>1.0</td>\n",
              "      <td>0.739130</td>\n",
              "      <td>0.016949</td>\n",
              "      <td>0.466667</td>\n",
              "      <td>1.0</td>\n",
              "      <td>0.695652</td>\n",
              "      <td>0.711864</td>\n",
              "    </tr>\n",
              "    <tr>\n",
              "      <th>3</th>\n",
              "      <td>0.000533</td>\n",
              "      <td>0.433333</td>\n",
              "      <td>1.0</td>\n",
              "      <td>0.521739</td>\n",
              "      <td>0.271186</td>\n",
              "      <td>0.433333</td>\n",
              "      <td>1.0</td>\n",
              "      <td>0.521739</td>\n",
              "      <td>0.152542</td>\n",
              "    </tr>\n",
              "    <tr>\n",
              "      <th>4</th>\n",
              "      <td>0.001522</td>\n",
              "      <td>0.400000</td>\n",
              "      <td>1.0</td>\n",
              "      <td>0.826087</td>\n",
              "      <td>0.559322</td>\n",
              "      <td>0.400000</td>\n",
              "      <td>1.0</td>\n",
              "      <td>0.826087</td>\n",
              "      <td>0.220339</td>\n",
              "    </tr>\n",
              "  </tbody>\n",
              "</table>\n",
              "</div>"
            ],
            "text/plain": [
              "   JourneyDuration   EndDate  EndMonth  ...  StartMonth  StartHour  StartMinute\n",
              "0         0.002587  0.600000       1.0  ...         1.0   0.739130     0.440678\n",
              "1         0.002282  0.600000       1.0  ...         1.0   0.608696     0.864407\n",
              "2         0.001446  0.466667       1.0  ...         1.0   0.695652     0.711864\n",
              "3         0.000533  0.433333       1.0  ...         1.0   0.521739     0.152542\n",
              "4         0.001522  0.400000       1.0  ...         1.0   0.826087     0.220339\n",
              "\n",
              "[5 rows x 9 columns]"
            ]
          },
          "metadata": {
            "tags": []
          },
          "execution_count": 79
        }
      ]
    },
    {
      "cell_type": "markdown",
      "metadata": {
        "id": "MrD99bk3QXlE",
        "colab_type": "text"
      },
      "source": [
        "**Organizando dados para modelagem**"
      ]
    },
    {
      "cell_type": "code",
      "metadata": {
        "id": "mZ7Qw3mrQY5S",
        "colab_type": "code",
        "colab": {
          "base_uri": "https://localhost:8080/",
          "height": 204
        },
        "outputId": "5732c7c8-4952-450b-d215-766a8423bde2"
      },
      "source": [
        "#dividindo dados em atributos descritores e atributo de classe\n",
        "X = data.drop(columns=['JourneyDuration'])\n",
        "X.head()"
      ],
      "execution_count": 80,
      "outputs": [
        {
          "output_type": "execute_result",
          "data": {
            "text/html": [
              "<div>\n",
              "<style scoped>\n",
              "    .dataframe tbody tr th:only-of-type {\n",
              "        vertical-align: middle;\n",
              "    }\n",
              "\n",
              "    .dataframe tbody tr th {\n",
              "        vertical-align: top;\n",
              "    }\n",
              "\n",
              "    .dataframe thead th {\n",
              "        text-align: right;\n",
              "    }\n",
              "</style>\n",
              "<table border=\"1\" class=\"dataframe\">\n",
              "  <thead>\n",
              "    <tr style=\"text-align: right;\">\n",
              "      <th></th>\n",
              "      <th>EndDate</th>\n",
              "      <th>EndMonth</th>\n",
              "      <th>EndHour</th>\n",
              "      <th>EndMinute</th>\n",
              "      <th>StartDate</th>\n",
              "      <th>StartMonth</th>\n",
              "      <th>StartHour</th>\n",
              "      <th>StartMinute</th>\n",
              "    </tr>\n",
              "  </thead>\n",
              "  <tbody>\n",
              "    <tr>\n",
              "      <th>0</th>\n",
              "      <td>0.600000</td>\n",
              "      <td>1.0</td>\n",
              "      <td>0.782609</td>\n",
              "      <td>0.000000</td>\n",
              "      <td>0.600000</td>\n",
              "      <td>1.0</td>\n",
              "      <td>0.739130</td>\n",
              "      <td>0.440678</td>\n",
              "    </tr>\n",
              "    <tr>\n",
              "      <th>1</th>\n",
              "      <td>0.600000</td>\n",
              "      <td>1.0</td>\n",
              "      <td>0.652174</td>\n",
              "      <td>0.355932</td>\n",
              "      <td>0.600000</td>\n",
              "      <td>1.0</td>\n",
              "      <td>0.608696</td>\n",
              "      <td>0.864407</td>\n",
              "    </tr>\n",
              "    <tr>\n",
              "      <th>2</th>\n",
              "      <td>0.466667</td>\n",
              "      <td>1.0</td>\n",
              "      <td>0.739130</td>\n",
              "      <td>0.016949</td>\n",
              "      <td>0.466667</td>\n",
              "      <td>1.0</td>\n",
              "      <td>0.695652</td>\n",
              "      <td>0.711864</td>\n",
              "    </tr>\n",
              "    <tr>\n",
              "      <th>3</th>\n",
              "      <td>0.433333</td>\n",
              "      <td>1.0</td>\n",
              "      <td>0.521739</td>\n",
              "      <td>0.271186</td>\n",
              "      <td>0.433333</td>\n",
              "      <td>1.0</td>\n",
              "      <td>0.521739</td>\n",
              "      <td>0.152542</td>\n",
              "    </tr>\n",
              "    <tr>\n",
              "      <th>4</th>\n",
              "      <td>0.400000</td>\n",
              "      <td>1.0</td>\n",
              "      <td>0.826087</td>\n",
              "      <td>0.559322</td>\n",
              "      <td>0.400000</td>\n",
              "      <td>1.0</td>\n",
              "      <td>0.826087</td>\n",
              "      <td>0.220339</td>\n",
              "    </tr>\n",
              "  </tbody>\n",
              "</table>\n",
              "</div>"
            ],
            "text/plain": [
              "    EndDate  EndMonth   EndHour  ...  StartMonth  StartHour  StartMinute\n",
              "0  0.600000       1.0  0.782609  ...         1.0   0.739130     0.440678\n",
              "1  0.600000       1.0  0.652174  ...         1.0   0.608696     0.864407\n",
              "2  0.466667       1.0  0.739130  ...         1.0   0.695652     0.711864\n",
              "3  0.433333       1.0  0.521739  ...         1.0   0.521739     0.152542\n",
              "4  0.400000       1.0  0.826087  ...         1.0   0.826087     0.220339\n",
              "\n",
              "[5 rows x 8 columns]"
            ]
          },
          "metadata": {
            "tags": []
          },
          "execution_count": 80
        }
      ]
    },
    {
      "cell_type": "code",
      "metadata": {
        "id": "prVkTldpQgcQ",
        "colab_type": "code",
        "colab": {
          "base_uri": "https://localhost:8080/",
          "height": 119
        },
        "outputId": "621422df-0780-4cb0-ccc2-9ef4398df93a"
      },
      "source": [
        "y = data.JourneyDuration\n",
        "y.head()"
      ],
      "execution_count": 81,
      "outputs": [
        {
          "output_type": "execute_result",
          "data": {
            "text/plain": [
              "0    0.002587\n",
              "1    0.002282\n",
              "2    0.001446\n",
              "3    0.000533\n",
              "4    0.001522\n",
              "Name: JourneyDuration, dtype: float64"
            ]
          },
          "metadata": {
            "tags": []
          },
          "execution_count": 81
        }
      ]
    },
    {
      "cell_type": "code",
      "metadata": {
        "id": "nfmtW_CiRBrO",
        "colab_type": "code",
        "colab": {}
      },
      "source": [
        "from sklearn.model_selection import train_test_split\n",
        "\n",
        "X_train, X_test, y_train, y_test = train_test_split(X,y, test_size=0.2) #random_state=42"
      ],
      "execution_count": 82,
      "outputs": []
    },
    {
      "cell_type": "markdown",
      "metadata": {
        "id": "FPrGKR97SGIe",
        "colab_type": "text"
      },
      "source": [
        "**Treinando os modelos e fazendo previsão**"
      ]
    },
    {
      "cell_type": "code",
      "metadata": {
        "id": "ZSeTfuXHSHeI",
        "colab_type": "code",
        "colab": {
          "base_uri": "https://localhost:8080/",
          "height": 34
        },
        "outputId": "a0c0f2d5-6c1e-4471-ad18-bb2337c9fdab"
      },
      "source": [
        "#definindo modelo de regressão linear\n",
        "linear = LinearRegression()\n",
        "linear.fit(X_train,y_train)\n",
        "pred_linear = linear.predict(X_test)\n",
        "print(pred_linear)"
      ],
      "execution_count": 83,
      "outputs": [
        {
          "output_type": "stream",
          "text": [
            "[0.00410825 0.00076067 0.0008368  ... 0.00684711 0.00098917 0.00045663]\n"
          ],
          "name": "stdout"
        }
      ]
    },
    {
      "cell_type": "code",
      "metadata": {
        "id": "D-zzyGgnSSVx",
        "colab_type": "code",
        "colab": {
          "base_uri": "https://localhost:8080/",
          "height": 281
        },
        "outputId": "e9f4f81e-c615-4675-e531-b4f2551153e4"
      },
      "source": [
        "#plotando resultados da MLP\n",
        "plt.plot(y_test.reset_index(drop=True),label='real')\n",
        "plt.plot(pred_linear,label='linear')\n",
        "plt.legend()\n",
        "plt.title('Previsão com regressão linear')\n",
        "plt.show()"
      ],
      "execution_count": 84,
      "outputs": [
        {
          "output_type": "display_data",
          "data": {
            "image/png": "[encoded data removed]",
            "text/plain": [
              "<Figure size 432x288 with 1 Axes>"
            ]
          },
          "metadata": {
            "tags": [],
            "needs_background": "light"
          }
        }
      ]
    },
    {
      "cell_type": "code",
      "metadata": {
        "id": "BTu9eAMISaTi",
        "colab_type": "code",
        "colab": {}
      },
      "source": [
        "#definindo modelo de árvore de decisão\n",
        "arvore = DecisionTreeRegressor()\n",
        "arvore.fit(X_train,y_train)\n",
        "pred_arvore = arvore.predict(X_test)"
      ],
      "execution_count": 85,
      "outputs": []
    },
    {
      "cell_type": "code",
      "metadata": {
        "id": "AX-9Lw3hSd9M",
        "colab_type": "code",
        "colab": {
          "base_uri": "https://localhost:8080/",
          "height": 281
        },
        "outputId": "df2ee869-50aa-47de-f894-0c7a6262a7a5"
      },
      "source": [
        "#plotando resultados da árvore de decisão\n",
        "plt.plot(y_test.reset_index(drop=True),label='real')\n",
        "plt.plot(pred_arvore,label='arvore')\n",
        "plt.legend()\n",
        "plt.title('Previsão com árvore de decisão')\n",
        "plt.show()"
      ],
      "execution_count": 86,
      "outputs": [
        {
          "output_type": "display_data",
          "data": {
            "image/png": "[encoded data removed]",
            "text/plain": [
              "<Figure size 432x288 with 1 Axes>"
            ]
          },
          "metadata": {
            "tags": [],
            "needs_background": "light"
          }
        }
      ]
    },
    {
      "cell_type": "code",
      "metadata": {
        "id": "i7dad1XrSoMU",
        "colab_type": "code",
        "colab": {}
      },
      "source": [
        "#definindo modelo de random forest\n",
        "floresta = RandomForestRegressor(n_estimators=100)\n",
        "floresta.fit(X_train,y_train)\n",
        "pred_floresta = floresta.predict(X_test)"
      ],
      "execution_count": 68,
      "outputs": []
    },
    {
      "cell_type": "code",
      "metadata": {
        "id": "woU0OiJ_SqMr",
        "colab_type": "code",
        "colab": {
          "base_uri": "https://localhost:8080/",
          "height": 281
        },
        "outputId": "b161d011-af88-4d1a-c807-fcc001c9154f"
      },
      "source": [
        "#plotando resultados da random forest\n",
        "plt.plot(y_test.reset_index(drop=True),label='real')\n",
        "plt.plot(pred_floresta,label='floresta')\n",
        "plt.legend()\n",
        "plt.title('Previsão com random forest')\n",
        "plt.show()"
      ],
      "execution_count": 87,
      "outputs": [
        {
          "output_type": "display_data",
          "data": {
            "image/png": "[encoded data removed]",
            "text/plain": [
              "<Figure size 432x288 with 1 Axes>"
            ]
          },
          "metadata": {
            "tags": [],
            "needs_background": "light"
          }
        }
      ]
    },
    {
      "cell_type": "code",
      "metadata": {
        "id": "EkBQnutKSunn",
        "colab_type": "code",
        "colab": {}
      },
      "source": [
        "\n",
        "#define modelo MLP\n",
        "mlp = MLPRegressor(hidden_layer_sizes=(200,50),activation='logistic',max_iter=1000)\n",
        "mlp.fit(X_train,y_train)\n",
        "pred_mlp = mlp.predict(X_test)"
      ],
      "execution_count": 88,
      "outputs": []
    },
    {
      "cell_type": "code",
      "metadata": {
        "id": "a65KZExDSwf3",
        "colab_type": "code",
        "colab": {
          "base_uri": "https://localhost:8080/",
          "height": 281
        },
        "outputId": "7cfa4063-d909-4a13-ff26-4781ef181bc5"
      },
      "source": [
        "#plotando resultados da MLP\n",
        "plt.plot(y_test.reset_index(drop=True),label='real')\n",
        "plt.plot(pred_mlp,label='mlp')\n",
        "plt.legend()\n",
        "plt.title('Previsão com MLP')\n",
        "plt.show()"
      ],
      "execution_count": 89,
      "outputs": [
        {
          "output_type": "display_data",
          "data": {
            "image/png": "[encoded data removed]",
            "text/plain": [
              "<Figure size 432x288 with 1 Axes>"
            ]
          },
          "metadata": {
            "tags": [],
            "needs_background": "light"
          }
        }
      ]
    },
    {
      "cell_type": "markdown",
      "metadata": {
        "id": "ytmsXjwNSyYN",
        "colab_type": "text"
      },
      "source": [
        "**Avaliando Modelos**\n",
        "\n",
        "**Mean Absolute Error (MAE)**"
      ]
    },
    {
      "cell_type": "code",
      "metadata": {
        "id": "y2jUZwp6S1tu",
        "colab_type": "code",
        "colab": {
          "base_uri": "https://localhost:8080/",
          "height": 34
        },
        "outputId": "d9fdd3f7-273f-4b8e-8d6d-cfe62002aab1"
      },
      "source": [
        "from sklearn.metrics import mean_absolute_error\n",
        "\n",
        "#Mae Árvore\n",
        "mean_absolute_error(y_test,pred_linear)"
      ],
      "execution_count": 69,
      "outputs": [
        {
          "output_type": "execute_result",
          "data": {
            "text/plain": [
              "1.0492824567952084e-05"
            ]
          },
          "metadata": {
            "tags": []
          },
          "execution_count": 69
        }
      ]
    },
    {
      "cell_type": "code",
      "metadata": {
        "id": "VXpXf6gzS5ae",
        "colab_type": "code",
        "colab": {
          "base_uri": "https://localhost:8080/",
          "height": 34
        },
        "outputId": "f244996a-a43c-42de-fe09-3aa465af0466"
      },
      "source": [
        "#Mae Árvore\n",
        "mean_absolute_error(y_test,pred_arvore)"
      ],
      "execution_count": 90,
      "outputs": [
        {
          "output_type": "execute_result",
          "data": {
            "text/plain": [
              "0.000291791561725246"
            ]
          },
          "metadata": {
            "tags": []
          },
          "execution_count": 90
        }
      ]
    },
    {
      "cell_type": "code",
      "metadata": {
        "id": "tEfXWOeES7a-",
        "colab_type": "code",
        "colab": {
          "base_uri": "https://localhost:8080/",
          "height": 34
        },
        "outputId": "e0b99b2d-0205-42e8-9355-60e99daac5b4"
      },
      "source": [
        "#Mae Random Forest\n",
        "mean_absolute_error(y_test,pred_floresta)"
      ],
      "execution_count": 92,
      "outputs": [
        {
          "output_type": "execute_result",
          "data": {
            "text/plain": [
              "0.0015416766262150126"
            ]
          },
          "metadata": {
            "tags": []
          },
          "execution_count": 92
        }
      ]
    },
    {
      "cell_type": "code",
      "metadata": {
        "id": "arqS0PH_S9OT",
        "colab_type": "code",
        "colab": {
          "base_uri": "https://localhost:8080/",
          "height": 34
        },
        "outputId": "a902ef75-af49-459a-c36b-6449186fbcdd"
      },
      "source": [
        "#Mae MLP\n",
        "mean_absolute_error(y_test,pred_mlp)"
      ],
      "execution_count": 93,
      "outputs": [
        {
          "output_type": "execute_result",
          "data": {
            "text/plain": [
              "0.0012403210429563919"
            ]
          },
          "metadata": {
            "tags": []
          },
          "execution_count": 93
        }
      ]
    },
    {
      "cell_type": "markdown",
      "metadata": {
        "id": "l6_D2-wwS-yV",
        "colab_type": "text"
      },
      "source": [
        "**Mean Squared Error (MSE)**"
      ]
    },
    {
      "cell_type": "code",
      "metadata": {
        "id": "U9hhtaMVTArw",
        "colab_type": "code",
        "colab": {
          "base_uri": "https://localhost:8080/",
          "height": 34
        },
        "outputId": "58ee8020-c172-425b-8b06-2a70b15deecd"
      },
      "source": [
        "from sklearn.metrics import mean_squared_error\n",
        "\n",
        "\n",
        "mean_squared_error(y_test,pred_linear)"
      ],
      "execution_count": 96,
      "outputs": [
        {
          "output_type": "execute_result",
          "data": {
            "text/plain": [
              "3.9622196848580643e-10"
            ]
          },
          "metadata": {
            "tags": []
          },
          "execution_count": 96
        }
      ]
    },
    {
      "cell_type": "code",
      "metadata": {
        "id": "13YbNtngTDcA",
        "colab_type": "code",
        "colab": {
          "base_uri": "https://localhost:8080/",
          "height": 34
        },
        "outputId": "aced37a3-10d9-4b24-9463-824d02bda2ef"
      },
      "source": [
        "mean_squared_error(y_test,pred_arvore)"
      ],
      "execution_count": 97,
      "outputs": [
        {
          "output_type": "execute_result",
          "data": {
            "text/plain": [
              "2.5878712087963317e-05"
            ]
          },
          "metadata": {
            "tags": []
          },
          "execution_count": 97
        }
      ]
    },
    {
      "cell_type": "code",
      "metadata": {
        "id": "Zu7AinShTEpa",
        "colab_type": "code",
        "colab": {
          "base_uri": "https://localhost:8080/",
          "height": 34
        },
        "outputId": "26670bd2-33ee-4fe4-f0b1-30e2e8ad898f"
      },
      "source": [
        "mean_squared_error(y_test,pred_floresta)"
      ],
      "execution_count": 100,
      "outputs": [
        {
          "output_type": "execute_result",
          "data": {
            "text/plain": [
              "5.07281457320245e-05"
            ]
          },
          "metadata": {
            "tags": []
          },
          "execution_count": 100
        }
      ]
    },
    {
      "cell_type": "code",
      "metadata": {
        "id": "jy35w-G9TFmQ",
        "colab_type": "code",
        "colab": {
          "base_uri": "https://localhost:8080/",
          "height": 34
        },
        "outputId": "5a7e0969-0b53-4660-b945-d7395a6ff8bb"
      },
      "source": [
        "mean_squared_error(y_test,pred_mlp)"
      ],
      "execution_count": 99,
      "outputs": [
        {
          "output_type": "execute_result",
          "data": {
            "text/plain": [
              "3.4351535281279144e-05"
            ]
          },
          "metadata": {
            "tags": []
          },
          "execution_count": 99
        }
      ]
    },
    {
      "cell_type": "markdown",
      "metadata": {
        "id": "QfS6MkEPTHKp",
        "colab_type": "text"
      },
      "source": [
        "**Root Mean Squared Error (RMSE)**"
      ]
    },
    {
      "cell_type": "code",
      "metadata": {
        "id": "1IE_lnu7TIZZ",
        "colab_type": "code",
        "colab": {
          "base_uri": "https://localhost:8080/",
          "height": 34
        },
        "outputId": "05c8b49d-6e28-4369-e394-af9fd4ca4179"
      },
      "source": [
        "mean_squared_error(y_test,pred_linear)**(1/2)"
      ],
      "execution_count": 101,
      "outputs": [
        {
          "output_type": "execute_result",
          "data": {
            "text/plain": [
              "1.990532512886455e-05"
            ]
          },
          "metadata": {
            "tags": []
          },
          "execution_count": 101
        }
      ]
    },
    {
      "cell_type": "code",
      "metadata": {
        "id": "dXoaP-C4TJ45",
        "colab_type": "code",
        "colab": {
          "base_uri": "https://localhost:8080/",
          "height": 34
        },
        "outputId": "b3159cd4-e799-48cf-90ad-5a4d00d0fa58"
      },
      "source": [
        "mean_squared_error(y_test,pred_arvore)**(1/2)"
      ],
      "execution_count": 102,
      "outputs": [
        {
          "output_type": "execute_result",
          "data": {
            "text/plain": [
              "0.005087112352598802"
            ]
          },
          "metadata": {
            "tags": []
          },
          "execution_count": 102
        }
      ]
    },
    {
      "cell_type": "code",
      "metadata": {
        "id": "Mkjog28bTLCR",
        "colab_type": "code",
        "colab": {
          "base_uri": "https://localhost:8080/",
          "height": 34
        },
        "outputId": "563c64db-721a-4d46-8ce3-8b99a30df239"
      },
      "source": [
        "mean_squared_error(y_test,pred_floresta)**(1/2)"
      ],
      "execution_count": 103,
      "outputs": [
        {
          "output_type": "execute_result",
          "data": {
            "text/plain": [
              "0.007122369390309976"
            ]
          },
          "metadata": {
            "tags": []
          },
          "execution_count": 103
        }
      ]
    },
    {
      "cell_type": "code",
      "metadata": {
        "id": "gLvGt5PaTMTB",
        "colab_type": "code",
        "colab": {
          "base_uri": "https://localhost:8080/",
          "height": 34
        },
        "outputId": "26a519c0-fb96-4caf-c732-df42cbc33182"
      },
      "source": [
        "mean_squared_error(y_test,pred_mlp)**(1/2)"
      ],
      "execution_count": 104,
      "outputs": [
        {
          "output_type": "execute_result",
          "data": {
            "text/plain": [
              "0.005861018280237586"
            ]
          },
          "metadata": {
            "tags": []
          },
          "execution_count": 104
        }
      ]
    },
    {
      "cell_type": "markdown",
      "metadata": {
        "id": "oPUOMH6KTO9M",
        "colab_type": "text"
      },
      "source": [
        "**Mean Absolute Percentage Error (MAPE)**"
      ]
    },
    {
      "cell_type": "code",
      "metadata": {
        "id": "MrkjyYZrTP5A",
        "colab_type": "code",
        "colab": {}
      },
      "source": [
        "def mean_absolute_percentage_error(y_test,y_pred):\n",
        "  y_test=y_test.values\n",
        "  erro = 0\n",
        "  for i in range(len(y_test)):\n",
        "    erro += abs(y_test[i]-y_pred[i])/y_test[i]\n",
        "  return erro/len(y_test)"
      ],
      "execution_count": 105,
      "outputs": []
    },
    {
      "cell_type": "code",
      "metadata": {
        "id": "Fy0DLp3bTSk4",
        "colab_type": "code",
        "colab": {
          "base_uri": "https://localhost:8080/",
          "height": 68
        },
        "outputId": "c9c12da0-0de0-46a5-a29e-f4a64fef7998"
      },
      "source": [
        "mean_absolute_percentage_error(y_test,pred_linear)"
      ],
      "execution_count": 106,
      "outputs": [
        {
          "output_type": "stream",
          "text": [
            "/usr/local/lib/python3.6/dist-packages/ipykernel_launcher.py:5: RuntimeWarning: divide by zero encountered in double_scalars\n",
            "  \"\"\"\n"
          ],
          "name": "stderr"
        },
        {
          "output_type": "execute_result",
          "data": {
            "text/plain": [
              "inf"
            ]
          },
          "metadata": {
            "tags": []
          },
          "execution_count": 106
        }
      ]
    },
    {
      "cell_type": "code",
      "metadata": {
        "id": "DPB2wfzYTTEJ",
        "colab_type": "code",
        "colab": {
          "base_uri": "https://localhost:8080/",
          "height": 102
        },
        "outputId": "3d57e9b4-2647-4fbc-a011-e12f5ee46a7b"
      },
      "source": [
        "\n",
        "mean_absolute_percentage_error(y_test,pred_arvore)"
      ],
      "execution_count": 107,
      "outputs": [
        {
          "output_type": "stream",
          "text": [
            "/usr/local/lib/python3.6/dist-packages/ipykernel_launcher.py:5: RuntimeWarning: divide by zero encountered in double_scalars\n",
            "  \"\"\"\n",
            "/usr/local/lib/python3.6/dist-packages/ipykernel_launcher.py:5: RuntimeWarning: invalid value encountered in double_scalars\n",
            "  \"\"\"\n"
          ],
          "name": "stderr"
        },
        {
          "output_type": "execute_result",
          "data": {
            "text/plain": [
              "nan"
            ]
          },
          "metadata": {
            "tags": []
          },
          "execution_count": 107
        }
      ]
    },
    {
      "cell_type": "code",
      "metadata": {
        "id": "YPmjHWY9TT8o",
        "colab_type": "code",
        "colab": {
          "base_uri": "https://localhost:8080/",
          "height": 68
        },
        "outputId": "6dd9a3fb-dd80-4387-b669-a5c1bbba5cc1"
      },
      "source": [
        "\n",
        "mean_absolute_percentage_error(y_test,pred_floresta)"
      ],
      "execution_count": 108,
      "outputs": [
        {
          "output_type": "stream",
          "text": [
            "/usr/local/lib/python3.6/dist-packages/ipykernel_launcher.py:5: RuntimeWarning: divide by zero encountered in double_scalars\n",
            "  \"\"\"\n"
          ],
          "name": "stderr"
        },
        {
          "output_type": "execute_result",
          "data": {
            "text/plain": [
              "inf"
            ]
          },
          "metadata": {
            "tags": []
          },
          "execution_count": 108
        }
      ]
    },
    {
      "cell_type": "code",
      "metadata": {
        "id": "gIgqHHS7TVHA",
        "colab_type": "code",
        "colab": {
          "base_uri": "https://localhost:8080/",
          "height": 68
        },
        "outputId": "5a8a5c57-6d9f-4bb4-bcb0-7493a546ba8a"
      },
      "source": [
        "mean_absolute_percentage_error(y_test,pred_mlp)"
      ],
      "execution_count": 109,
      "outputs": [
        {
          "output_type": "stream",
          "text": [
            "/usr/local/lib/python3.6/dist-packages/ipykernel_launcher.py:5: RuntimeWarning: divide by zero encountered in double_scalars\n",
            "  \"\"\"\n"
          ],
          "name": "stderr"
        },
        {
          "output_type": "execute_result",
          "data": {
            "text/plain": [
              "inf"
            ]
          },
          "metadata": {
            "tags": []
          },
          "execution_count": 109
        }
      ]
    },
    {
      "cell_type": "markdown",
      "metadata": {
        "id": "khzczMrwTaeK",
        "colab_type": "text"
      },
      "source": [
        "**Interpretação**\n",
        "\n",
        "Nosso algoritmo de recressão teve os melhores resultado com a regressão linear e Rando forest. Por nossos dados se aproximarem do valor zero, não foi possível realizar o MAPE. \n",
        "Em nosso gráficos de previsões é possível observar a presição em nosssa previsão com regressão linear, tendo os dados lineares e os reais com o mesmo resultado, um outro gráfico que teve bom resultado foi o com regressão com árvores.\n",
        "Nosso algoritmo foi treinado com o objetivo de ver a relação da duração das viagens com as bicletas alugadas comparadas com os dados restantes de inicio, duração e fim da locação.\n",
        "\n",
        "Em nossos testes foi confirmado que nossa regressão linear é tem melhor resultado. É possível observe em nossas avaliaçãoes de modelos, na avalição MAE a regressão linear teve resultado acima de 1 enquanto as demais tiveram resultado abaixar de 1, o mesmo se repete para a avaliação RMSE. Com exceção da avaliação MSE a regressão linear não teve melhor resultado ficando com resultado superior a 3, e sendo a regressão com random forest a que obteve melhor resultado com valor superior a 5."
      ]
    }
  ]
}