{
  "nbformat": 4,
  "nbformat_minor": 0,
  "metadata": {
    "colab": {
      "name": "regressão.ipynb",
      "provenance": [],
      "collapsed_sections": [],
      "mount_file_id": "1KInun6CpvptcIDuxc0KAE1jSvRMFCe0C",
      "authorship_tag": "ABX9TyNvppsM7KjznGU2jSXf80Dg",
      "include_colab_link": true
    },
    "kernelspec": {
      "name": "python3",
      "display_name": "Python 3"
    }
  },
  "cells": [
    {
      "cell_type": "markdown",
      "metadata": {
        "id": "view-in-github",
        "colab_type": "text"
      },
      "source": [
        "<a href=\"https://colab.research.google.com/github/Rendrikson98/Aprendizado-de-M-quina/blob/master/regress%C3%A3o.ipynb\" target=\"_parent\"><img src=\"https://colab.research.google.com/assets/colab-badge.svg\" alt=\"Open In Colab\"/></a>"
      ]
    },
    {
      "cell_type": "markdown",
      "metadata": {
        "id": "jBAFGUMBag3y",
        "colab_type": "text"
      },
      "source": [
        "**1. Importar bibliotecas necessárias e realizando a leitura dos dados**"
      ]
    },
    {
      "cell_type": "markdown",
      "metadata": {
        "id": "zBvOQo0oqa8v",
        "colab_type": "text"
      },
      "source": [
        "https://www.kaggle.com/edenau/london-bike-sharing-system-data?select=journeys.csv"
      ]
    },
    {
      "cell_type": "code",
      "metadata": {
        "id": "xVJYjFivaY3N",
        "colab_type": "code",
        "colab": {
          "base_uri": "https://localhost:8080/",
          "height": 204
        },
        "outputId": "2e654524-c222-463a-ab53-7a477d7fd996"
      },
      "source": [
        "import pandas as pd\n",
        "import matplotlib.pyplot as plt\n",
        "import seaborn as sns\n",
        "from sklearn.linear_model import LinearRegression\n",
        "from sklearn.tree import DecisionTreeRegressor\n",
        "from sklearn.ensemble import RandomForestRegressor\n",
        "from sklearn.neural_network import MLPRegressor\n",
        "\n",
        "data = pd.read_csv('/content/drive/My Drive/Colab Notebooks/journeys.csv')\n",
        "data.head() "
      ],
      "execution_count": 112,
      "outputs": [
        {
          "output_type": "execute_result",
          "data": {
            "text/html": [
              "<div>\n",
              "<style scoped>\n",
              "    .dataframe tbody tr th:only-of-type {\n",
              "        vertical-align: middle;\n",
              "    }\n",
              "\n",
              "    .dataframe tbody tr th {\n",
              "        vertical-align: top;\n",
              "    }\n",
              "\n",
              "    .dataframe thead th {\n",
              "        text-align: right;\n",
              "    }\n",
              "</style>\n",
              "<table border=\"1\" class=\"dataframe\">\n",
              "  <thead>\n",
              "    <tr style=\"text-align: right;\">\n",
              "      <th></th>\n",
              "      <th>JourneyDuration</th>\n",
              "      <th>JourneyID</th>\n",
              "      <th>EndDate</th>\n",
              "      <th>EndMonth</th>\n",
              "      <th>EndYear</th>\n",
              "      <th>EndHour</th>\n",
              "      <th>EndMinute</th>\n",
              "      <th>EndStationID</th>\n",
              "      <th>StartDate</th>\n",
              "      <th>StartMonth</th>\n",
              "      <th>StartYear</th>\n",
              "      <th>StartHour</th>\n",
              "      <th>StartMinute</th>\n",
              "      <th>StartStationID</th>\n",
              "    </tr>\n",
              "  </thead>\n",
              "  <tbody>\n",
              "    <tr>\n",
              "      <th>0</th>\n",
              "      <td>2040.0</td>\n",
              "      <td>953</td>\n",
              "      <td>19</td>\n",
              "      <td>9</td>\n",
              "      <td>17</td>\n",
              "      <td>18</td>\n",
              "      <td>0</td>\n",
              "      <td>478</td>\n",
              "      <td>19</td>\n",
              "      <td>9</td>\n",
              "      <td>17</td>\n",
              "      <td>17</td>\n",
              "      <td>26</td>\n",
              "      <td>251</td>\n",
              "    </tr>\n",
              "    <tr>\n",
              "      <th>1</th>\n",
              "      <td>1800.0</td>\n",
              "      <td>12581</td>\n",
              "      <td>19</td>\n",
              "      <td>9</td>\n",
              "      <td>17</td>\n",
              "      <td>15</td>\n",
              "      <td>21</td>\n",
              "      <td>122</td>\n",
              "      <td>19</td>\n",
              "      <td>9</td>\n",
              "      <td>17</td>\n",
              "      <td>14</td>\n",
              "      <td>51</td>\n",
              "      <td>550</td>\n",
              "    </tr>\n",
              "    <tr>\n",
              "      <th>2</th>\n",
              "      <td>1140.0</td>\n",
              "      <td>1159</td>\n",
              "      <td>15</td>\n",
              "      <td>9</td>\n",
              "      <td>17</td>\n",
              "      <td>17</td>\n",
              "      <td>1</td>\n",
              "      <td>639</td>\n",
              "      <td>15</td>\n",
              "      <td>9</td>\n",
              "      <td>17</td>\n",
              "      <td>16</td>\n",
              "      <td>42</td>\n",
              "      <td>212</td>\n",
              "    </tr>\n",
              "    <tr>\n",
              "      <th>3</th>\n",
              "      <td>420.0</td>\n",
              "      <td>2375</td>\n",
              "      <td>14</td>\n",
              "      <td>9</td>\n",
              "      <td>17</td>\n",
              "      <td>12</td>\n",
              "      <td>16</td>\n",
              "      <td>755</td>\n",
              "      <td>14</td>\n",
              "      <td>9</td>\n",
              "      <td>17</td>\n",
              "      <td>12</td>\n",
              "      <td>9</td>\n",
              "      <td>163</td>\n",
              "    </tr>\n",
              "    <tr>\n",
              "      <th>4</th>\n",
              "      <td>1200.0</td>\n",
              "      <td>14659</td>\n",
              "      <td>13</td>\n",
              "      <td>9</td>\n",
              "      <td>17</td>\n",
              "      <td>19</td>\n",
              "      <td>33</td>\n",
              "      <td>605</td>\n",
              "      <td>13</td>\n",
              "      <td>9</td>\n",
              "      <td>17</td>\n",
              "      <td>19</td>\n",
              "      <td>13</td>\n",
              "      <td>36</td>\n",
              "    </tr>\n",
              "  </tbody>\n",
              "</table>\n",
              "</div>"
            ],
            "text/plain": [
              "   JourneyDuration  JourneyID  EndDate  ...  StartHour  StartMinute  StartStationID\n",
              "0           2040.0        953       19  ...         17           26             251\n",
              "1           1800.0      12581       19  ...         14           51             550\n",
              "2           1140.0       1159       15  ...         16           42             212\n",
              "3            420.0       2375       14  ...         12            9             163\n",
              "4           1200.0      14659       13  ...         19           13              36\n",
              "\n",
              "[5 rows x 14 columns]"
            ]
          },
          "metadata": {
            "tags": []
          },
          "execution_count": 112
        }
      ]
    },
    {
      "cell_type": "markdown",
      "metadata": {
        "id": "S4l6NHFabNfU",
        "colab_type": "text"
      },
      "source": [
        "**Limpeza e organização dos dados**"
      ]
    },
    {
      "cell_type": "code",
      "metadata": {
        "id": "pWodTbrYbOxq",
        "colab_type": "code",
        "colab": {
          "base_uri": "https://localhost:8080/",
          "height": 204
        },
        "outputId": "44838cf9-e3e3-4635-f5cd-2a93e77ca7a6"
      },
      "source": [
        "data = data.drop(columns=['JourneyID','EndStationID', 'StartStationID', 'EndYear', 'StartYear'])\n",
        "data.head()"
      ],
      "execution_count": 113,
      "outputs": [
        {
          "output_type": "execute_result",
          "data": {
            "text/html": [
              "<div>\n",
              "<style scoped>\n",
              "    .dataframe tbody tr th:only-of-type {\n",
              "        vertical-align: middle;\n",
              "    }\n",
              "\n",
              "    .dataframe tbody tr th {\n",
              "        vertical-align: top;\n",
              "    }\n",
              "\n",
              "    .dataframe thead th {\n",
              "        text-align: right;\n",
              "    }\n",
              "</style>\n",
              "<table border=\"1\" class=\"dataframe\">\n",
              "  <thead>\n",
              "    <tr style=\"text-align: right;\">\n",
              "      <th></th>\n",
              "      <th>JourneyDuration</th>\n",
              "      <th>EndDate</th>\n",
              "      <th>EndMonth</th>\n",
              "      <th>EndHour</th>\n",
              "      <th>EndMinute</th>\n",
              "      <th>StartDate</th>\n",
              "      <th>StartMonth</th>\n",
              "      <th>StartHour</th>\n",
              "      <th>StartMinute</th>\n",
              "    </tr>\n",
              "  </thead>\n",
              "  <tbody>\n",
              "    <tr>\n",
              "      <th>0</th>\n",
              "      <td>2040.0</td>\n",
              "      <td>19</td>\n",
              "      <td>9</td>\n",
              "      <td>18</td>\n",
              "      <td>0</td>\n",
              "      <td>19</td>\n",
              "      <td>9</td>\n",
              "      <td>17</td>\n",
              "      <td>26</td>\n",
              "    </tr>\n",
              "    <tr>\n",
              "      <th>1</th>\n",
              "      <td>1800.0</td>\n",
              "      <td>19</td>\n",
              "      <td>9</td>\n",
              "      <td>15</td>\n",
              "      <td>21</td>\n",
              "      <td>19</td>\n",
              "      <td>9</td>\n",
              "      <td>14</td>\n",
              "      <td>51</td>\n",
              "    </tr>\n",
              "    <tr>\n",
              "      <th>2</th>\n",
              "      <td>1140.0</td>\n",
              "      <td>15</td>\n",
              "      <td>9</td>\n",
              "      <td>17</td>\n",
              "      <td>1</td>\n",
              "      <td>15</td>\n",
              "      <td>9</td>\n",
              "      <td>16</td>\n",
              "      <td>42</td>\n",
              "    </tr>\n",
              "    <tr>\n",
              "      <th>3</th>\n",
              "      <td>420.0</td>\n",
              "      <td>14</td>\n",
              "      <td>9</td>\n",
              "      <td>12</td>\n",
              "      <td>16</td>\n",
              "      <td>14</td>\n",
              "      <td>9</td>\n",
              "      <td>12</td>\n",
              "      <td>9</td>\n",
              "    </tr>\n",
              "    <tr>\n",
              "      <th>4</th>\n",
              "      <td>1200.0</td>\n",
              "      <td>13</td>\n",
              "      <td>9</td>\n",
              "      <td>19</td>\n",
              "      <td>33</td>\n",
              "      <td>13</td>\n",
              "      <td>9</td>\n",
              "      <td>19</td>\n",
              "      <td>13</td>\n",
              "    </tr>\n",
              "  </tbody>\n",
              "</table>\n",
              "</div>"
            ],
            "text/plain": [
              "   JourneyDuration  EndDate  EndMonth  ...  StartMonth  StartHour  StartMinute\n",
              "0           2040.0       19         9  ...           9         17           26\n",
              "1           1800.0       19         9  ...           9         14           51\n",
              "2           1140.0       15         9  ...           9         16           42\n",
              "3            420.0       14         9  ...           9         12            9\n",
              "4           1200.0       13         9  ...           9         19           13\n",
              "\n",
              "[5 rows x 9 columns]"
            ]
          },
          "metadata": {
            "tags": []
          },
          "execution_count": 113
        }
      ]
    },
    {
      "cell_type": "markdown",
      "metadata": {
        "id": "T2_17Ikvq4e1",
        "colab_type": "text"
      },
      "source": [
        "**Análise Preliminar dos Dados**"
      ]
    },
    {
      "cell_type": "code",
      "metadata": {
        "id": "fvx4FpoSq6FC",
        "colab_type": "code",
        "colab": {
          "base_uri": "https://localhost:8080/",
          "height": 279
        },
        "outputId": "6540e1f4-9c3c-453b-922b-55f80642e352"
      },
      "source": [
        "#plotando Duração de um viagem\n",
        "plt.plot(data.JourneyDuration)\n",
        "plt.xlabel('quantidade')\n",
        "plt.ylabel('Metros')\n",
        "plt.show()"
      ],
      "execution_count": 114,
      "outputs": [
        {
          "output_type": "display_data",
          "data": {
            "image/png": "[encoded data removed]",
            "text/plain": [
              "<Figure size 432x288 with 1 Axes>"
            ]
          },
          "metadata": {
            "tags": [],
            "needs_background": "light"
          }
        }
      ]
    },
    {
      "cell_type": "code",
      "metadata": {
        "id": "4arUwpT1s88P",
        "colab_type": "code",
        "colab": {
          "base_uri": "https://localhost:8080/",
          "height": 295
        },
        "outputId": "db47386c-c7da-4ff3-afbd-26ed878ba4a7"
      },
      "source": [
        "#plotando ocorrência de dias do mês\n",
        "plt.hist(data.StartDate)\n",
        "plt.xlabel('Dias do mês')\n",
        "plt.ylabel('Quantidade')\n",
        "plt.title('Ocorrencia de dias do mês')\n",
        "plt.show()"
      ],
      "execution_count": 115,
      "outputs": [
        {
          "output_type": "display_data",
          "data": {
            "image/png": "[encoded data removed]",
            "text/plain": [
              "<Figure size 432x288 with 1 Axes>"
            ]
          },
          "metadata": {
            "tags": [],
            "needs_background": "light"
          }
        }
      ]
    },
    {
      "cell_type": "code",
      "metadata": {
        "id": "Ld_YKxjZuvp4",
        "colab_type": "code",
        "colab": {
          "base_uri": "https://localhost:8080/",
          "height": 295
        },
        "outputId": "1e21dbde-029a-4497-e68f-ff2367e86e7b"
      },
      "source": [
        "#plotando ocorrência de dias com final da locação\n",
        "plt.hist(data.EndDate)\n",
        "plt.xlabel('Dias do mês')\n",
        "plt.ylabel('Quantidade')\n",
        "plt.title('Ocorrencia de finalização das locações')\n",
        "plt.show()"
      ],
      "execution_count": 116,
      "outputs": [
        {
          "output_type": "display_data",
          "data": {
            "image/png": "[encoded data removed]",
            "text/plain": [
              "<Figure size 432x288 with 1 Axes>"
            ]
          },
          "metadata": {
            "tags": [],
            "needs_background": "light"
          }
        }
      ]
    },
    {
      "cell_type": "code",
      "metadata": {
        "id": "ymFXZDgx8tTE",
        "colab_type": "code",
        "colab": {
          "base_uri": "https://localhost:8080/",
          "height": 295
        },
        "outputId": "57fc11aa-2524-4944-cfd5-6fe2e005b248"
      },
      "source": [
        "#plotando ocorrência de dias com início da locação\n",
        "plt.hist(data.StartDate)\n",
        "plt.xlabel('Dias do mês')\n",
        "plt.ylabel('Quantidade')\n",
        "plt.title('Ocorrencia de início das locações')\n",
        "plt.show()"
      ],
      "execution_count": 117,
      "outputs": [
        {
          "output_type": "display_data",
          "data": {
            "image/png": "[encoded data removed]",
            "text/plain": [
              "<Figure size 432x288 with 1 Axes>"
            ]
          },
          "metadata": {
            "tags": [],
            "needs_background": "light"
          }
        }
      ]
    },
    {
      "cell_type": "code",
      "metadata": {
        "id": "TWUTi1Un9YMi",
        "colab_type": "code",
        "colab": {
          "base_uri": "https://localhost:8080/",
          "height": 295
        },
        "outputId": "02821531-c165-4ac1-a21a-9d5cbc1a19a0"
      },
      "source": [
        "#plotando ocorrência tempo da locação\n",
        "plt.hist(data.EndHour)\n",
        "plt.xlabel('horas')\n",
        "plt.ylabel('Quantidade')\n",
        "plt.title('Ocorrencia de horas das locações')\n",
        "plt.show()"
      ],
      "execution_count": 118,
      "outputs": [
        {
          "output_type": "display_data",
          "data": {
            "image/png": "[encoded data removed]",
            "text/plain": [
              "<Figure size 432x288 with 1 Axes>"
            ]
          },
          "metadata": {
            "tags": [],
            "needs_background": "light"
          }
        }
      ]
    },
    {
      "cell_type": "code",
      "metadata": {
        "id": "yW2UaAZ89mbE",
        "colab_type": "code",
        "colab": {
          "base_uri": "https://localhost:8080/",
          "height": 295
        },
        "outputId": "56356539-5cc6-42ed-e787-f414b4af57b8"
      },
      "source": [
        "#plotando ocorrência tempo da locação\n",
        "plt.hist(data.StartHour)\n",
        "plt.xlabel('horas')\n",
        "plt.ylabel('Quantidade')\n",
        "plt.title('Ocorrencia de locações nos horarios estabelecidos')\n",
        "plt.show()"
      ],
      "execution_count": 119,
      "outputs": [
        {
          "output_type": "display_data",
          "data": {
            "image/png": "[encoded data removed]",
            "text/plain": [
              "<Figure size 432x288 with 1 Axes>"
            ]
          },
          "metadata": {
            "tags": [],
            "needs_background": "light"
          }
        }
      ]
    },
    {
      "cell_type": "code",
      "metadata": {
        "id": "GddckyyC9zuX",
        "colab_type": "code",
        "colab": {
          "base_uri": "https://localhost:8080/",
          "height": 295
        },
        "outputId": "d33f35b2-82f0-4ec6-a395-800e08224031"
      },
      "source": [
        "# plotando correlação entre temperatura e número de aluguéis\n",
        "plt.scatter(data.StartHour, data.JourneyDuration)\n",
        "plt.xlabel('duração da viagem')\n",
        "plt.ylabel('hora de inicio')\n",
        "plt.title('Correlação entre duração da viagem e horário de início')\n",
        "plt.show()"
      ],
      "execution_count": 120,
      "outputs": [
        {
          "output_type": "display_data",
          "data": {
            "image/png": "[encoded data removed]",
            "text/plain": [
              "<Figure size 432x288 with 1 Axes>"
            ]
          },
          "metadata": {
            "tags": [],
            "needs_background": "light"
          }
        }
      ]
    },
    {
      "cell_type": "markdown",
      "metadata": {
        "id": "lFOwFaVsP1LF",
        "colab_type": "text"
      },
      "source": [
        "**Re-escala dos dados**"
      ]
    },
    {
      "cell_type": "code",
      "metadata": {
        "id": "_1e7hkfUP7LJ",
        "colab_type": "code",
        "colab": {
          "base_uri": "https://localhost:8080/",
          "height": 204
        },
        "outputId": "df1a9ac2-2722-4492-cd6d-966153c8ee4a"
      },
      "source": [
        "data = (data - data.min())/(data.max()-data.min())\n",
        "data.head()"
      ],
      "execution_count": 121,
      "outputs": [
        {
          "output_type": "execute_result",
          "data": {
            "text/html": [
              "<div>\n",
              "<style scoped>\n",
              "    .dataframe tbody tr th:only-of-type {\n",
              "        vertical-align: middle;\n",
              "    }\n",
              "\n",
              "    .dataframe tbody tr th {\n",
              "        vertical-align: top;\n",
              "    }\n",
              "\n",
              "    .dataframe thead th {\n",
              "        text-align: right;\n",
              "    }\n",
              "</style>\n",
              "<table border=\"1\" class=\"dataframe\">\n",
              "  <thead>\n",
              "    <tr style=\"text-align: right;\">\n",
              "      <th></th>\n",
              "      <th>JourneyDuration</th>\n",
              "      <th>EndDate</th>\n",
              "      <th>EndMonth</th>\n",
              "      <th>EndHour</th>\n",
              "      <th>EndMinute</th>\n",
              "      <th>StartDate</th>\n",
              "      <th>StartMonth</th>\n",
              "      <th>StartHour</th>\n",
              "      <th>StartMinute</th>\n",
              "    </tr>\n",
              "  </thead>\n",
              "  <tbody>\n",
              "    <tr>\n",
              "      <th>0</th>\n",
              "      <td>0.002587</td>\n",
              "      <td>0.600000</td>\n",
              "      <td>1.0</td>\n",
              "      <td>0.782609</td>\n",
              "      <td>0.000000</td>\n",
              "      <td>0.600000</td>\n",
              "      <td>1.0</td>\n",
              "      <td>0.739130</td>\n",
              "      <td>0.440678</td>\n",
              "    </tr>\n",
              "    <tr>\n",
              "      <th>1</th>\n",
              "      <td>0.002282</td>\n",
              "      <td>0.600000</td>\n",
              "      <td>1.0</td>\n",
              "      <td>0.652174</td>\n",
              "      <td>0.355932</td>\n",
              "      <td>0.600000</td>\n",
              "      <td>1.0</td>\n",
              "      <td>0.608696</td>\n",
              "      <td>0.864407</td>\n",
              "    </tr>\n",
              "    <tr>\n",
              "      <th>2</th>\n",
              "      <td>0.001446</td>\n",
              "      <td>0.466667</td>\n",
              "      <td>1.0</td>\n",
              "      <td>0.739130</td>\n",
              "      <td>0.016949</td>\n",
              "      <td>0.466667</td>\n",
              "      <td>1.0</td>\n",
              "      <td>0.695652</td>\n",
              "      <td>0.711864</td>\n",
              "    </tr>\n",
              "    <tr>\n",
              "      <th>3</th>\n",
              "      <td>0.000533</td>\n",
              "      <td>0.433333</td>\n",
              "      <td>1.0</td>\n",
              "      <td>0.521739</td>\n",
              "      <td>0.271186</td>\n",
              "      <td>0.433333</td>\n",
              "      <td>1.0</td>\n",
              "      <td>0.521739</td>\n",
              "      <td>0.152542</td>\n",
              "    </tr>\n",
              "    <tr>\n",
              "      <th>4</th>\n",
              "      <td>0.001522</td>\n",
              "      <td>0.400000</td>\n",
              "      <td>1.0</td>\n",
              "      <td>0.826087</td>\n",
              "      <td>0.559322</td>\n",
              "      <td>0.400000</td>\n",
              "      <td>1.0</td>\n",
              "      <td>0.826087</td>\n",
              "      <td>0.220339</td>\n",
              "    </tr>\n",
              "  </tbody>\n",
              "</table>\n",
              "</div>"
            ],
            "text/plain": [
              "   JourneyDuration   EndDate  EndMonth  ...  StartMonth  StartHour  StartMinute\n",
              "0         0.002587  0.600000       1.0  ...         1.0   0.739130     0.440678\n",
              "1         0.002282  0.600000       1.0  ...         1.0   0.608696     0.864407\n",
              "2         0.001446  0.466667       1.0  ...         1.0   0.695652     0.711864\n",
              "3         0.000533  0.433333       1.0  ...         1.0   0.521739     0.152542\n",
              "4         0.001522  0.400000       1.0  ...         1.0   0.826087     0.220339\n",
              "\n",
              "[5 rows x 9 columns]"
            ]
          },
          "metadata": {
            "tags": []
          },
          "execution_count": 121
        }
      ]
    },
    {
      "cell_type": "markdown",
      "metadata": {
        "id": "MrD99bk3QXlE",
        "colab_type": "text"
      },
      "source": [
        "**Organizando dados para modelagem**"
      ]
    },
    {
      "cell_type": "code",
      "metadata": {
        "id": "mZ7Qw3mrQY5S",
        "colab_type": "code",
        "colab": {
          "base_uri": "https://localhost:8080/",
          "height": 204
        },
        "outputId": "f9659361-0d78-4624-bff5-5b4822f934ce"
      },
      "source": [
        "#dividindo dados em atributos descritores e atributo de classe\n",
        "X = data.drop(columns=['JourneyDuration'])\n",
        "X.head()"
      ],
      "execution_count": 122,
      "outputs": [
        {
          "output_type": "execute_result",
          "data": {
            "text/html": [
              "<div>\n",
              "<style scoped>\n",
              "    .dataframe tbody tr th:only-of-type {\n",
              "        vertical-align: middle;\n",
              "    }\n",
              "\n",
              "    .dataframe tbody tr th {\n",
              "        vertical-align: top;\n",
              "    }\n",
              "\n",
              "    .dataframe thead th {\n",
              "        text-align: right;\n",
              "    }\n",
              "</style>\n",
              "<table border=\"1\" class=\"dataframe\">\n",
              "  <thead>\n",
              "    <tr style=\"text-align: right;\">\n",
              "      <th></th>\n",
              "      <th>EndDate</th>\n",
              "      <th>EndMonth</th>\n",
              "      <th>EndHour</th>\n",
              "      <th>EndMinute</th>\n",
              "      <th>StartDate</th>\n",
              "      <th>StartMonth</th>\n",
              "      <th>StartHour</th>\n",
              "      <th>StartMinute</th>\n",
              "    </tr>\n",
              "  </thead>\n",
              "  <tbody>\n",
              "    <tr>\n",
              "      <th>0</th>\n",
              "      <td>0.600000</td>\n",
              "      <td>1.0</td>\n",
              "      <td>0.782609</td>\n",
              "      <td>0.000000</td>\n",
              "      <td>0.600000</td>\n",
              "      <td>1.0</td>\n",
              "      <td>0.739130</td>\n",
              "      <td>0.440678</td>\n",
              "    </tr>\n",
              "    <tr>\n",
              "      <th>1</th>\n",
              "      <td>0.600000</td>\n",
              "      <td>1.0</td>\n",
              "      <td>0.652174</td>\n",
              "      <td>0.355932</td>\n",
              "      <td>0.600000</td>\n",
              "      <td>1.0</td>\n",
              "      <td>0.608696</td>\n",
              "      <td>0.864407</td>\n",
              "    </tr>\n",
              "    <tr>\n",
              "      <th>2</th>\n",
              "      <td>0.466667</td>\n",
              "      <td>1.0</td>\n",
              "      <td>0.739130</td>\n",
              "      <td>0.016949</td>\n",
              "      <td>0.466667</td>\n",
              "      <td>1.0</td>\n",
              "      <td>0.695652</td>\n",
              "      <td>0.711864</td>\n",
              "    </tr>\n",
              "    <tr>\n",
              "      <th>3</th>\n",
              "      <td>0.433333</td>\n",
              "      <td>1.0</td>\n",
              "      <td>0.521739</td>\n",
              "      <td>0.271186</td>\n",
              "      <td>0.433333</td>\n",
              "      <td>1.0</td>\n",
              "      <td>0.521739</td>\n",
              "      <td>0.152542</td>\n",
              "    </tr>\n",
              "    <tr>\n",
              "      <th>4</th>\n",
              "      <td>0.400000</td>\n",
              "      <td>1.0</td>\n",
              "      <td>0.826087</td>\n",
              "      <td>0.559322</td>\n",
              "      <td>0.400000</td>\n",
              "      <td>1.0</td>\n",
              "      <td>0.826087</td>\n",
              "      <td>0.220339</td>\n",
              "    </tr>\n",
              "  </tbody>\n",
              "</table>\n",
              "</div>"
            ],
            "text/plain": [
              "    EndDate  EndMonth   EndHour  ...  StartMonth  StartHour  StartMinute\n",
              "0  0.600000       1.0  0.782609  ...         1.0   0.739130     0.440678\n",
              "1  0.600000       1.0  0.652174  ...         1.0   0.608696     0.864407\n",
              "2  0.466667       1.0  0.739130  ...         1.0   0.695652     0.711864\n",
              "3  0.433333       1.0  0.521739  ...         1.0   0.521739     0.152542\n",
              "4  0.400000       1.0  0.826087  ...         1.0   0.826087     0.220339\n",
              "\n",
              "[5 rows x 8 columns]"
            ]
          },
          "metadata": {
            "tags": []
          },
          "execution_count": 122
        }
      ]
    },
    {
      "cell_type": "code",
      "metadata": {
        "id": "prVkTldpQgcQ",
        "colab_type": "code",
        "colab": {
          "base_uri": "https://localhost:8080/",
          "height": 119
        },
        "outputId": "efb1d1ca-ba41-4357-fa04-a4462b3484b0"
      },
      "source": [
        "y = data.JourneyDuration\n",
        "y.head()"
      ],
      "execution_count": 123,
      "outputs": [
        {
          "output_type": "execute_result",
          "data": {
            "text/plain": [
              "0    0.002587\n",
              "1    0.002282\n",
              "2    0.001446\n",
              "3    0.000533\n",
              "4    0.001522\n",
              "Name: JourneyDuration, dtype: float64"
            ]
          },
          "metadata": {
            "tags": []
          },
          "execution_count": 123
        }
      ]
    },
    {
      "cell_type": "code",
      "metadata": {
        "id": "nfmtW_CiRBrO",
        "colab_type": "code",
        "colab": {}
      },
      "source": [
        "from sklearn.model_selection import train_test_split\n",
        "\n",
        "X_train, X_test, y_train, y_test = train_test_split(X,y, test_size=0.2) #random_state=42"
      ],
      "execution_count": 124,
      "outputs": []
    },
    {
      "cell_type": "markdown",
      "metadata": {
        "id": "FPrGKR97SGIe",
        "colab_type": "text"
      },
      "source": [
        "**Treinando os modelos e fazendo previsão**"
      ]
    },
    {
      "cell_type": "code",
      "metadata": {
        "id": "ZSeTfuXHSHeI",
        "colab_type": "code",
        "colab": {
          "base_uri": "https://localhost:8080/",
          "height": 34
        },
        "outputId": "43c4c837-f382-4387-9ddd-628fa19186ae"
      },
      "source": [
        "#definindo modelo de regressão linear\n",
        "linear = LinearRegression()\n",
        "linear.fit(X_train,y_train)\n",
        "pred_linear = linear.predict(X_test)\n",
        "print(pred_linear)"
      ],
      "execution_count": 125,
      "outputs": [
        {
          "output_type": "stream",
          "text": [
            "[0.00182604 0.00091292 0.0007609  ... 0.00091289 0.00190133 0.0009884 ]\n"
          ],
          "name": "stdout"
        }
      ]
    },
    {
      "cell_type": "code",
      "metadata": {
        "id": "D-zzyGgnSSVx",
        "colab_type": "code",
        "colab": {
          "base_uri": "https://localhost:8080/",
          "height": 281
        },
        "outputId": "0b427fb7-7f1a-4e8b-984f-3934e06eac0a"
      },
      "source": [
        "#plotando resultados da MLP\n",
        "plt.plot(y_test.reset_index(drop=True),label='real')\n",
        "plt.plot(pred_linear,label='linear')\n",
        "plt.legend()\n",
        "plt.title('Previsão com regressão linear')\n",
        "plt.show()"
      ],
      "execution_count": 126,
      "outputs": [
        {
          "output_type": "display_data",
          "data": {
            "image/png": "[encoded data removed]",
            "text/plain": [
              "<Figure size 432x288 with 1 Axes>"
            ]
          },
          "metadata": {
            "tags": [],
            "needs_background": "light"
          }
        }
      ]
    },
    {
      "cell_type": "code",
      "metadata": {
        "id": "BTu9eAMISaTi",
        "colab_type": "code",
        "colab": {}
      },
      "source": [
        "#definindo modelo de árvore de decisão\n",
        "arvore = DecisionTreeRegressor()\n",
        "arvore.fit(X_train,y_train)\n",
        "pred_arvore = arvore.predict(X_test)"
      ],
      "execution_count": 127,
      "outputs": []
    },
    {
      "cell_type": "code",
      "metadata": {
        "id": "AX-9Lw3hSd9M",
        "colab_type": "code",
        "colab": {
          "base_uri": "https://localhost:8080/",
          "height": 281
        },
        "outputId": "83337e87-ff43-4331-b599-8ab91f399cc2"
      },
      "source": [
        "#plotando resultados da árvore de decisão\n",
        "plt.plot(y_test.reset_index(drop=True),label='real')\n",
        "plt.plot(pred_arvore,label='arvore')\n",
        "plt.legend()\n",
        "plt.title('Previsão com árvore de decisão')\n",
        "plt.show()"
      ],
      "execution_count": 128,
      "outputs": [
        {
          "output_type": "display_data",
          "data": {
            "image/png": "[encoded data removed]",
            "text/plain": [
              "<Figure size 432x288 with 1 Axes>"
            ]
          },
          "metadata": {
            "tags": [],
            "needs_background": "light"
          }
        }
      ]
    },
    {
      "cell_type": "code",
      "metadata": {
        "id": "i7dad1XrSoMU",
        "colab_type": "code",
        "colab": {}
      },
      "source": [
        "#definindo modelo de random forest\n",
        "floresta = RandomForestRegressor(n_estimators=100)\n",
        "floresta.fit(X_train,y_train)\n",
        "pred_floresta = floresta.predict(X_test)"
      ],
      "execution_count": 129,
      "outputs": []
    },
    {
      "cell_type": "code",
      "metadata": {
        "id": "woU0OiJ_SqMr",
        "colab_type": "code",
        "colab": {
          "base_uri": "https://localhost:8080/",
          "height": 281
        },
        "outputId": "6a4c6f64-e5db-47eb-d3b0-1fc283f97ef8"
      },
      "source": [
        "#plotando resultados da random forest\n",
        "plt.plot(y_test.reset_index(drop=True),label='real')\n",
        "plt.plot(pred_floresta,label='floresta')\n",
        "plt.legend()\n",
        "plt.title('Previsão com random forest')\n",
        "plt.show()"
      ],
      "execution_count": 130,
      "outputs": [
        {
          "output_type": "display_data",
          "data": {
            "image/png": "[encoded data removed]",
            "text/plain": [
              "<Figure size 432x288 with 1 Axes>"
            ]
          },
          "metadata": {
            "tags": [],
            "needs_background": "light"
          }
        }
      ]
    },
    {
      "cell_type": "code",
      "metadata": {
        "id": "EkBQnutKSunn",
        "colab_type": "code",
        "colab": {}
      },
      "source": [
        "\n",
        "#define modelo MLP\n",
        "mlp = MLPRegressor(hidden_layer_sizes=(200,50),activation='logistic',max_iter=1000)\n",
        "mlp.fit(X_train,y_train)\n",
        "pred_mlp = mlp.predict(X_test)"
      ],
      "execution_count": 131,
      "outputs": []
    },
    {
      "cell_type": "code",
      "metadata": {
        "id": "a65KZExDSwf3",
        "colab_type": "code",
        "colab": {
          "base_uri": "https://localhost:8080/",
          "height": 281
        },
        "outputId": "9de19e4d-d38d-4037-f2fc-cde671070bed"
      },
      "source": [
        "#plotando resultados da MLP\n",
        "plt.plot(y_test.reset_index(drop=True),label='real')\n",
        "plt.plot(pred_mlp,label='mlp')\n",
        "plt.legend()\n",
        "plt.title('Previsão com MLP')\n",
        "plt.show()"
      ],
      "execution_count": 132,
      "outputs": [
        {
          "output_type": "display_data",
          "data": {
            "image/png": "[encoded data removed]",
            "text/plain": [
              "<Figure size 432x288 with 1 Axes>"
            ]
          },
          "metadata": {
            "tags": [],
            "needs_background": "light"
          }
        }
      ]
    },
    {
      "cell_type": "markdown",
      "metadata": {
        "id": "ytmsXjwNSyYN",
        "colab_type": "text"
      },
      "source": [
        "**Avaliando Modelos**\n",
        "\n",
        "**Mean Absolute Error (MAE)**"
      ]
    },
    {
      "cell_type": "code",
      "metadata": {
        "id": "y2jUZwp6S1tu",
        "colab_type": "code",
        "colab": {
          "base_uri": "https://localhost:8080/",
          "height": 34
        },
        "outputId": "c2fb1844-68e4-4107-e58c-a5224c4d7612"
      },
      "source": [
        "from sklearn.metrics import mean_absolute_error\n",
        "\n",
        "#Mae Árvore\n",
        "mean_absolute_error(y_test,pred_linear)"
      ],
      "execution_count": 133,
      "outputs": [
        {
          "output_type": "execute_result",
          "data": {
            "text/plain": [
              "1.047792116954749e-05"
            ]
          },
          "metadata": {
            "tags": []
          },
          "execution_count": 133
        }
      ]
    },
    {
      "cell_type": "code",
      "metadata": {
        "id": "VXpXf6gzS5ae",
        "colab_type": "code",
        "colab": {
          "base_uri": "https://localhost:8080/",
          "height": 34
        },
        "outputId": "e93840b6-c033-4801-f908-4c3cf75a4cc6"
      },
      "source": [
        "#Mae Árvore\n",
        "mean_absolute_error(y_test,pred_arvore)"
      ],
      "execution_count": 134,
      "outputs": [
        {
          "output_type": "execute_result",
          "data": {
            "text/plain": [
              "0.00028746474046654157"
            ]
          },
          "metadata": {
            "tags": []
          },
          "execution_count": 134
        }
      ]
    },
    {
      "cell_type": "code",
      "metadata": {
        "id": "tEfXWOeES7a-",
        "colab_type": "code",
        "colab": {
          "base_uri": "https://localhost:8080/",
          "height": 34
        },
        "outputId": "4b455c73-65ed-42c4-db27-1593de4bdfe2"
      },
      "source": [
        "#Mae Random Forest\n",
        "mean_absolute_error(y_test,pred_floresta)"
      ],
      "execution_count": 135,
      "outputs": [
        {
          "output_type": "execute_result",
          "data": {
            "text/plain": [
              "0.00021820040353502364"
            ]
          },
          "metadata": {
            "tags": []
          },
          "execution_count": 135
        }
      ]
    },
    {
      "cell_type": "code",
      "metadata": {
        "id": "arqS0PH_S9OT",
        "colab_type": "code",
        "colab": {
          "base_uri": "https://localhost:8080/",
          "height": 34
        },
        "outputId": "068f13cc-6438-4927-c540-70d760509f09"
      },
      "source": [
        "#Mae MLP\n",
        "mean_absolute_error(y_test,pred_mlp)"
      ],
      "execution_count": 136,
      "outputs": [
        {
          "output_type": "execute_result",
          "data": {
            "text/plain": [
              "0.001126583290601054"
            ]
          },
          "metadata": {
            "tags": []
          },
          "execution_count": 136
        }
      ]
    },
    {
      "cell_type": "markdown",
      "metadata": {
        "id": "l6_D2-wwS-yV",
        "colab_type": "text"
      },
      "source": [
        "**Mean Squared Error (MSE)**"
      ]
    },
    {
      "cell_type": "code",
      "metadata": {
        "id": "U9hhtaMVTArw",
        "colab_type": "code",
        "colab": {
          "base_uri": "https://localhost:8080/",
          "height": 34
        },
        "outputId": "07536a20-6fa2-40e6-8cf0-fcef7a6ecced"
      },
      "source": [
        "from sklearn.metrics import mean_squared_error\n",
        "\n",
        "\n",
        "mean_squared_error(y_test,pred_linear)"
      ],
      "execution_count": 137,
      "outputs": [
        {
          "output_type": "execute_result",
          "data": {
            "text/plain": [
              "3.956054539004271e-10"
            ]
          },
          "metadata": {
            "tags": []
          },
          "execution_count": 137
        }
      ]
    },
    {
      "cell_type": "code",
      "metadata": {
        "id": "13YbNtngTDcA",
        "colab_type": "code",
        "colab": {
          "base_uri": "https://localhost:8080/",
          "height": 34
        },
        "outputId": "ddb9b012-a8c0-43d9-f226-c61fe5b06c78"
      },
      "source": [
        "mean_squared_error(y_test,pred_arvore)"
      ],
      "execution_count": 138,
      "outputs": [
        {
          "output_type": "execute_result",
          "data": {
            "text/plain": [
              "1.974596070308798e-05"
            ]
          },
          "metadata": {
            "tags": []
          },
          "execution_count": 138
        }
      ]
    },
    {
      "cell_type": "code",
      "metadata": {
        "id": "Zu7AinShTEpa",
        "colab_type": "code",
        "colab": {
          "base_uri": "https://localhost:8080/",
          "height": 34
        },
        "outputId": "be3b2f5e-bc77-4040-c007-ec788a379821"
      },
      "source": [
        "mean_squared_error(y_test,pred_floresta)"
      ],
      "execution_count": 139,
      "outputs": [
        {
          "output_type": "execute_result",
          "data": {
            "text/plain": [
              "1.1642587080595331e-05"
            ]
          },
          "metadata": {
            "tags": []
          },
          "execution_count": 139
        }
      ]
    },
    {
      "cell_type": "code",
      "metadata": {
        "id": "jy35w-G9TFmQ",
        "colab_type": "code",
        "colab": {
          "base_uri": "https://localhost:8080/",
          "height": 34
        },
        "outputId": "e99f4b02-756e-4253-f003-1e004067397f"
      },
      "source": [
        "mean_squared_error(y_test,pred_mlp)"
      ],
      "execution_count": 140,
      "outputs": [
        {
          "output_type": "execute_result",
          "data": {
            "text/plain": [
              "2.249702536244557e-05"
            ]
          },
          "metadata": {
            "tags": []
          },
          "execution_count": 140
        }
      ]
    },
    {
      "cell_type": "markdown",
      "metadata": {
        "id": "QfS6MkEPTHKp",
        "colab_type": "text"
      },
      "source": [
        "**Root Mean Squared Error (RMSE)**"
      ]
    },
    {
      "cell_type": "code",
      "metadata": {
        "id": "1IE_lnu7TIZZ",
        "colab_type": "code",
        "colab": {
          "base_uri": "https://localhost:8080/",
          "height": 34
        },
        "outputId": "8e228267-b65e-4af0-d2a3-9dc8f399d3ec"
      },
      "source": [
        "mean_squared_error(y_test,pred_linear)**(1/2)"
      ],
      "execution_count": 141,
      "outputs": [
        {
          "output_type": "execute_result",
          "data": {
            "text/plain": [
              "1.9889832927916392e-05"
            ]
          },
          "metadata": {
            "tags": []
          },
          "execution_count": 141
        }
      ]
    },
    {
      "cell_type": "code",
      "metadata": {
        "id": "dXoaP-C4TJ45",
        "colab_type": "code",
        "colab": {
          "base_uri": "https://localhost:8080/",
          "height": 34
        },
        "outputId": "4b8cb19b-8580-4536-87f0-c1b7b93f9df4"
      },
      "source": [
        "mean_squared_error(y_test,pred_arvore)**(1/2)"
      ],
      "execution_count": 142,
      "outputs": [
        {
          "output_type": "execute_result",
          "data": {
            "text/plain": [
              "0.004443642729010511"
            ]
          },
          "metadata": {
            "tags": []
          },
          "execution_count": 142
        }
      ]
    },
    {
      "cell_type": "code",
      "metadata": {
        "id": "Mkjog28bTLCR",
        "colab_type": "code",
        "colab": {
          "base_uri": "https://localhost:8080/",
          "height": 34
        },
        "outputId": "661697d1-01d1-4c7e-dac6-57099386d9a8"
      },
      "source": [
        "mean_squared_error(y_test,pred_floresta)**(1/2)"
      ],
      "execution_count": 143,
      "outputs": [
        {
          "output_type": "execute_result",
          "data": {
            "text/plain": [
              "0.003412123544157704"
            ]
          },
          "metadata": {
            "tags": []
          },
          "execution_count": 143
        }
      ]
    },
    {
      "cell_type": "code",
      "metadata": {
        "id": "gLvGt5PaTMTB",
        "colab_type": "code",
        "colab": {
          "base_uri": "https://localhost:8080/",
          "height": 34
        },
        "outputId": "809af796-067c-42f0-e327-b33e27d5536a"
      },
      "source": [
        "mean_squared_error(y_test,pred_mlp)**(1/2)"
      ],
      "execution_count": 144,
      "outputs": [
        {
          "output_type": "execute_result",
          "data": {
            "text/plain": [
              "0.0047431029255589185"
            ]
          },
          "metadata": {
            "tags": []
          },
          "execution_count": 144
        }
      ]
    },
    {
      "cell_type": "markdown",
      "metadata": {
        "id": "oPUOMH6KTO9M",
        "colab_type": "text"
      },
      "source": [
        "**Mean Absolute Percentage Error (MAPE)**"
      ]
    },
    {
      "cell_type": "code",
      "metadata": {
        "id": "MrkjyYZrTP5A",
        "colab_type": "code",
        "colab": {}
      },
      "source": [
        "def mean_absolute_percentage_error(y_test,y_pred):\n",
        "  y_test=y_test.values\n",
        "  erro = 0\n",
        "  for i in range(len(y_test)):\n",
        "    erro += abs(y_test[i]-y_pred[i])/y_test[i]\n",
        "  return erro/len(y_test)"
      ],
      "execution_count": 145,
      "outputs": []
    },
    {
      "cell_type": "code",
      "metadata": {
        "id": "Fy0DLp3bTSk4",
        "colab_type": "code",
        "colab": {
          "base_uri": "https://localhost:8080/",
          "height": 68
        },
        "outputId": "fa41c14a-ec6e-4834-e213-1921a385ec24"
      },
      "source": [
        "mean_absolute_percentage_error(y_test,pred_linear)"
      ],
      "execution_count": 146,
      "outputs": [
        {
          "output_type": "stream",
          "text": [
            "/usr/local/lib/python3.6/dist-packages/ipykernel_launcher.py:5: RuntimeWarning: divide by zero encountered in double_scalars\n",
            "  \"\"\"\n"
          ],
          "name": "stderr"
        },
        {
          "output_type": "execute_result",
          "data": {
            "text/plain": [
              "inf"
            ]
          },
          "metadata": {
            "tags": []
          },
          "execution_count": 146
        }
      ]
    },
    {
      "cell_type": "code",
      "metadata": {
        "id": "DPB2wfzYTTEJ",
        "colab_type": "code",
        "colab": {
          "base_uri": "https://localhost:8080/",
          "height": 102
        },
        "outputId": "e6a90f38-93db-4d04-f8e2-029e88e21cb6"
      },
      "source": [
        "\n",
        "mean_absolute_percentage_error(y_test,pred_arvore)"
      ],
      "execution_count": 147,
      "outputs": [
        {
          "output_type": "stream",
          "text": [
            "/usr/local/lib/python3.6/dist-packages/ipykernel_launcher.py:5: RuntimeWarning: divide by zero encountered in double_scalars\n",
            "  \"\"\"\n",
            "/usr/local/lib/python3.6/dist-packages/ipykernel_launcher.py:5: RuntimeWarning: invalid value encountered in double_scalars\n",
            "  \"\"\"\n"
          ],
          "name": "stderr"
        },
        {
          "output_type": "execute_result",
          "data": {
            "text/plain": [
              "nan"
            ]
          },
          "metadata": {
            "tags": []
          },
          "execution_count": 147
        }
      ]
    },
    {
      "cell_type": "code",
      "metadata": {
        "id": "YPmjHWY9TT8o",
        "colab_type": "code",
        "colab": {
          "base_uri": "https://localhost:8080/",
          "height": 68
        },
        "outputId": "24b48806-1c0c-4114-8b32-a5ce789061fe"
      },
      "source": [
        "\n",
        "mean_absolute_percentage_error(y_test,pred_floresta)"
      ],
      "execution_count": 148,
      "outputs": [
        {
          "output_type": "stream",
          "text": [
            "/usr/local/lib/python3.6/dist-packages/ipykernel_launcher.py:5: RuntimeWarning: divide by zero encountered in double_scalars\n",
            "  \"\"\"\n"
          ],
          "name": "stderr"
        },
        {
          "output_type": "execute_result",
          "data": {
            "text/plain": [
              "inf"
            ]
          },
          "metadata": {
            "tags": []
          },
          "execution_count": 148
        }
      ]
    },
    {
      "cell_type": "code",
      "metadata": {
        "id": "gIgqHHS7TVHA",
        "colab_type": "code",
        "colab": {
          "base_uri": "https://localhost:8080/",
          "height": 68
        },
        "outputId": "2eba2945-c3ba-4f76-e9e6-33f56a9f4d9b"
      },
      "source": [
        "mean_absolute_percentage_error(y_test,pred_mlp)"
      ],
      "execution_count": 149,
      "outputs": [
        {
          "output_type": "stream",
          "text": [
            "/usr/local/lib/python3.6/dist-packages/ipykernel_launcher.py:5: RuntimeWarning: divide by zero encountered in double_scalars\n",
            "  \"\"\"\n"
          ],
          "name": "stderr"
        },
        {
          "output_type": "execute_result",
          "data": {
            "text/plain": [
              "inf"
            ]
          },
          "metadata": {
            "tags": []
          },
          "execution_count": 149
        }
      ]
    },
    {
      "cell_type": "markdown",
      "metadata": {
        "id": "khzczMrwTaeK",
        "colab_type": "text"
      },
      "source": [
        "**Interpretação**\n",
        "\n",
        "Nosso algoritmo de recressão teve os melhores resultado com a regressão linear e Rando forest. Por nossos dados se aproximarem do valor zero, não foi possível realizar o MAPE. \n",
        "Em nosso gráficos de previsões é possível observar a presição em nosssa previsão com regressão linear, tendo os dados lineares e os reais com o mesmo resultado, um outro gráfico que teve bom resultado foi o com regressão com árvores.\n",
        "Nosso algoritmo foi treinado com o objetivo de ver a relação da duração das viagens com as bicletas alugadas comparadas com os dados restantes de inicio, duração e fim da locação.\n",
        "\n",
        "É possível observar que o periódo que tem mais alugueis de bicicletas é nos finais de semanas como é o caso do dia 16 de semtembro de 2017 que teve o pico no numero de locações, também foi possível observa que os horários que possuim maior número de locação são os horários das 8h e as 18h.\n",
        "\n",
        "Em nossos testes foi confirmado que nossa regressão linear é tem melhor resultado. É possível observe em nossas avaliaçãoes de modelos, na avalição MAE a regressão linear teve resultado acima de 1 enquanto as demais tiveram resultado abaixar de 1, o mesmo se repete para a avaliação RMSE. Com a avaliação MSE a regressão linear teve melhor resultado ficando com resultado superior a 3.\n"
      ]
    }
  ]
}